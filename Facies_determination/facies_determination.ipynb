{
  "nbformat": 4,
  "nbformat_minor": 2,
  "metadata": {
    "orig_nbformat": 4,
    "language_info": {
      "name": "python",
      "version": "3.9.5",
      "mimetype": "text/x-python",
      "codemirror_mode": {
        "name": "ipython",
        "version": 3
      },
      "pygments_lexer": "ipython3",
      "nbconvert_exporter": "python",
      "file_extension": ".py"
    },
    "kernelspec": {
      "name": "python3",
      "display_name": "Python 3.9.5 64-bit"
    },
    "interpreter": {
      "hash": "916dbcbb3f70747c44a77c7bcd40155683ae19c65e1c03b4aa3499c5328201f1"
    },
    "colab": {
      "name": "main.ipynb",
      "provenance": [],
      "collapsed_sections": []
    }
  },
  "cells": [
    {
      "cell_type": "markdown",
      "source": [
        "# **IMPORTANT LIBRARIES**"
      ],
      "metadata": {
        "id": "7PiDrP262lcU"
      }
    },
    {
      "cell_type": "code",
      "execution_count": 1,
      "source": [
        "# Warning Libraries :\n",
        "import warnings\n",
        "warnings.filterwarnings(\"ignore\")"
      ],
      "outputs": [],
      "metadata": {
        "id": "sKRqvujx2lcj"
      }
    },
    {
      "cell_type": "code",
      "execution_count": 2,
      "source": [
        "# Scientific and Data Manipulation Libraries :\n",
        "import pandas as pd\n",
        "import numpy as np\n",
        "from numpy import percentile\n",
        "import math\n",
        "import os\n",
        "from sklearn.model_selection import train_test_split"
      ],
      "outputs": [],
      "metadata": {
        "id": "kN1LqAN92lck"
      }
    },
    {
      "cell_type": "code",
      "execution_count": 3,
      "source": [
        "# Data Visualization Libraries :\n",
        "%matplotlib inline\n",
        "import seaborn as sns\n",
        "import matplotlib.pyplot as plt"
      ],
      "outputs": [],
      "metadata": {
        "id": "MksVzuJC2lcl"
      }
    },
    {
      "cell_type": "code",
      "execution_count": 4,
      "source": [
        "#pip install lasio"
      ],
      "outputs": [],
      "metadata": {
        "colab": {
          "base_uri": "https://localhost:8080/"
        },
        "id": "Su8Bad8RAaf_",
        "outputId": "afc1d819-7e73-46b9-c2eb-df5700a73b8d"
      }
    },
    {
      "cell_type": "code",
      "execution_count": 5,
      "source": [
        "#Libraries to convert .las files to .csv and merge\n",
        "\n",
        "import lasio\n",
        "from sys import stdout\n",
        "import glob  ##For merging csv files"
      ],
      "outputs": [],
      "metadata": {
        "id": "VJGRxaYj2lcm"
      }
    },
    {
      "cell_type": "code",
      "execution_count": 6,
      "source": [
        "#DATA IMPUTATION LIBRARY\n",
        "from sklearn.experimental import enable_iterative_imputer\n",
        "from sklearn.impute import IterativeImputer\n",
        "from sklearn.impute import KNNImputer\n",
        "from sklearn.linear_model import LinearRegression"
      ],
      "outputs": [],
      "metadata": {
        "id": "rN2XHq5A2lcn"
      }
    },
    {
      "cell_type": "code",
      "execution_count": 7,
      "source": [
        "#Feature Selection Libraries\n",
        "from sklearn.feature_selection import VarianceThreshold\n",
        "from sklearn.feature_selection import mutual_info_classif\n",
        "from sklearn.feature_selection import SelectKBest"
      ],
      "outputs": [],
      "metadata": {
        "id": "yI6F_hXf2lco"
      }
    },
    {
      "cell_type": "code",
      "execution_count": 8,
      "source": [
        "#SCALING LIBRARIES\n",
        "from sklearn.preprocessing import StandardScaler, MinMaxScaler, Normalizer, RobustScaler, MaxAbsScaler"
      ],
      "outputs": [],
      "metadata": {
        "id": "TpTjij0w2lcq"
      }
    },
    {
      "cell_type": "code",
      "execution_count": 9,
      "source": [
        "#pip install catboost"
      ],
      "outputs": [],
      "metadata": {
        "colab": {
          "base_uri": "https://localhost:8080/"
        },
        "id": "Q5DmBxbNAfq-",
        "outputId": "6eaf5f21-052b-4b10-f5a7-31c0bd9df744"
      }
    },
    {
      "cell_type": "code",
      "execution_count": 10,
      "source": [
        "#MODEL TRAINING LIBRARIES\n",
        "from sklearn.naive_bayes import GaussianNB\n",
        "from sklearn.linear_model import LogisticRegression\n",
        "from catboost import CatBoostClassifier\n",
        "from sklearn.tree import DecisionTreeClassifier\n",
        "from sklearn.neighbors import KNeighborsClassifier\n",
        "from sklearn.ensemble import VotingClassifier\n",
        "from xgboost import XGBClassifier\n",
        "from lightgbm import LGBMClassifier\n",
        "from sklearn.ensemble import RandomForestClassifier"
      ],
      "outputs": [],
      "metadata": {
        "id": "BCVBm5C57HSQ"
      }
    },
    {
      "cell_type": "code",
      "execution_count": 11,
      "source": [
        "#MODEL ACCURACY LIBRARIES\n",
        "from sklearn import metrics\n",
        "from sklearn.metrics import confusion_matrix, ConfusionMatrixDisplay"
      ],
      "outputs": [],
      "metadata": {
        "id": "nvmaaARm8XvB"
      }
    },
    {
      "cell_type": "code",
      "execution_count": 12,
      "source": [
        "#grid searching key hyperparametres for logistic regression\n",
        "from sklearn.datasets import make_blobs\n",
        "from sklearn.model_selection import RepeatedStratifiedKFold\n",
        "from sklearn.model_selection import GridSearchCV"
      ],
      "outputs": [],
      "metadata": {
        "id": "BWxpmEUtqunY"
      }
    },
    {
      "cell_type": "code",
      "execution_count": 13,
      "source": [
        "path='/media/mr-robot/Local Disk/summer_training/Train'\n",
        "os.chdir(path)\n"
      ],
      "outputs": [],
      "metadata": {
        "id": "SEpS9Qjj2lcr"
      }
    },
    {
      "cell_type": "markdown",
      "source": [
        "# **LAS TO CSV**"
      ],
      "metadata": {
        "id": "v3ZNSNMk2lcu"
      }
    },
    {
      "cell_type": "code",
      "execution_count": 14,
      "source": [
        "# Converting all las files in csv by iterating using lasio\n",
        "for file in os.listdir():\n",
        "    if file.endswith(\".las\"):\n",
        "        file_path = f\"{path}/{file}\"\n",
        "        las=lasio.read(file_path)\n",
        "        size=len(file_path)\n",
        "        filepath1=file_path[:size-3]\n",
        "        las.to_csv(filepath1+'csv', units=False)"
      ],
      "outputs": [],
      "metadata": {
        "id": "tAnDlIdA2lcu"
      }
    },
    {
      "cell_type": "code",
      "execution_count": 15,
      "source": [
        "# Adding Well name to easily identify\n",
        "for file in os.listdir():\n",
        "    if file.endswith(\".csv\"):\n",
        "        s=pd.read_csv(file)\n",
        "        size=len(file)\n",
        "        dict=[]\n",
        "        filename= file[:size-4]\n",
        "        t=s.shape[0]\n",
        "        for i in range(t):\n",
        "            dict.append(filename)\n",
        "        s['WELL']=dict\n",
        "        s.to_csv(filename+'.csv',index=False)"
      ],
      "outputs": [],
      "metadata": {
        "id": "0Ss7WTMz2lcv"
      }
    },
    {
      "cell_type": "code",
      "execution_count": 16,
      "source": [
        "## To avoid furthur merging data and redundancy\n",
        "if(os.path.isfile('./merged_data.csv') ):\n",
        "    os.remove(\"merged_data.csv\")\n",
        "    \n",
        "if(os.path.isfile('./FACIES_imputed.csv')):\n",
        "    os.remove(\"FACIES_imputed.csv\")\n",
        "\n",
        "if(os.path.isfile('./FACIES_TRAIN.csv')):\n",
        "    os.remove(\"FACIES_TRAIN.csv\")"
      ],
      "outputs": [],
      "metadata": {
        "id": "NVxKbUGB2lcw"
      }
    },
    {
      "cell_type": "code",
      "execution_count": 17,
      "source": [
        "# Merging all Well Log using Glob\n",
        "filenames = glob.glob(path + \"/*.csv\")\n",
        "dfs = []\n",
        "for filename in filenames:\n",
        "    dfs.append(pd.read_csv(filename))\n",
        "big_frame = pd.concat(dfs, ignore_index=True)\n",
        "big_frame.to_csv('merged_data.csv',index=False)"
      ],
      "outputs": [],
      "metadata": {
        "id": "_JTqyy6E2lcx"
      }
    },
    {
      "cell_type": "markdown",
      "source": [
        "# **IMPUTATION**"
      ],
      "metadata": {
        "id": "p9TfBNtU2lcy"
      }
    },
    {
      "cell_type": "code",
      "execution_count": 18,
      "source": [
        "df = pd.read_csv('merged_data.csv')\n",
        "df"
      ],
      "outputs": [
        {
          "output_type": "execute_result",
          "data": {
            "text/plain": [
              "           DEPTH  ACOUSTICIMPEDANCE1          AI  AVG_PIGN    CALI  \\\n",
              "0      1275.0552          12875.0811  12875081.0       NaN  9.7141   \n",
              "1      1275.2076          12854.2256  12854226.0       NaN  9.7848   \n",
              "2      1275.3600          13024.1377  13024138.0       NaN  9.8300   \n",
              "3      1275.5124          13093.3428  13093343.0       NaN  9.8587   \n",
              "4      1275.6648          13169.9307  13169931.0       NaN  9.8756   \n",
              "...          ...                 ...         ...       ...     ...   \n",
              "58494  1622.6028           6069.1309   6069130.5       NaN  8.5257   \n",
              "58495  1622.7552           6067.8120   6067812.0       NaN  8.5282   \n",
              "58496  1622.9076           6105.7729   6105773.0       NaN  8.5313   \n",
              "58497  1623.0600           6152.9897   6152977.5       NaN  8.5331   \n",
              "58498  1623.2124           6157.8291   6157829.5       NaN  8.5338   \n",
              "\n",
              "       CALI[DERIVED]1        DT  FACIES  FLD1       GR  ...  CALI_1  NPHI_1  \\\n",
              "0              9.7141   50.2544     NaN   NaN  50.2128  ...     NaN     NaN   \n",
              "1              9.7848   50.3881     NaN   NaN  49.7509  ...     NaN     NaN   \n",
              "2              9.8300   49.8852     NaN   NaN  48.2513  ...     NaN     NaN   \n",
              "3              9.8587   49.9032     NaN   NaN  46.8212  ...     NaN     NaN   \n",
              "4              9.8756   50.0157     NaN   NaN  45.3463  ...     NaN     NaN   \n",
              "...               ...       ...     ...   ...      ...  ...     ...     ...   \n",
              "58494             NaN  123.7404     NaN   NaN      NaN  ...     NaN  0.4993   \n",
              "58495             NaN  123.8728     NaN   NaN      NaN  ...     NaN  0.5313   \n",
              "58496             NaN  123.3722     NaN   NaN      NaN  ...     NaN  0.5448   \n",
              "58497             NaN  122.6038     NaN   NaN      NaN  ...     NaN  0.5364   \n",
              "58498             NaN  122.3045     NaN   NaN      NaN  ...     NaN  0.5331   \n",
              "\n",
              "       ZCOR  RHOB_1  RXO  SPDH      DTDS    M2R1  TH   U  \n",
              "0       NaN     NaN  NaN   NaN       NaN     NaN NaN NaN  \n",
              "1       NaN     NaN  NaN   NaN       NaN     NaN NaN NaN  \n",
              "2       NaN     NaN  NaN   NaN       NaN     NaN NaN NaN  \n",
              "3       NaN     NaN  NaN   NaN       NaN     NaN NaN NaN  \n",
              "4       NaN     NaN  NaN   NaN       NaN     NaN NaN NaN  \n",
              "...     ...     ...  ...   ...       ...     ...  ..  ..  \n",
              "58494   NaN  2.4639  NaN   NaN  123.7404  1.5970 NaN NaN  \n",
              "58495   NaN  2.4660  NaN   NaN  123.8728  1.6128 NaN NaN  \n",
              "58496   NaN  2.4714  NaN   NaN  123.3722  1.7043 NaN NaN  \n",
              "58497   NaN  2.4750  NaN   NaN  122.6038  1.8375 NaN NaN  \n",
              "58498   NaN  2.4709  NaN   NaN  122.3045  1.9363 NaN NaN  \n",
              "\n",
              "[58499 rows x 67 columns]"
            ],
            "text/html": [
              "<div>\n",
              "<style scoped>\n",
              "    .dataframe tbody tr th:only-of-type {\n",
              "        vertical-align: middle;\n",
              "    }\n",
              "\n",
              "    .dataframe tbody tr th {\n",
              "        vertical-align: top;\n",
              "    }\n",
              "\n",
              "    .dataframe thead th {\n",
              "        text-align: right;\n",
              "    }\n",
              "</style>\n",
              "<table border=\"1\" class=\"dataframe\">\n",
              "  <thead>\n",
              "    <tr style=\"text-align: right;\">\n",
              "      <th></th>\n",
              "      <th>DEPTH</th>\n",
              "      <th>ACOUSTICIMPEDANCE1</th>\n",
              "      <th>AI</th>\n",
              "      <th>AVG_PIGN</th>\n",
              "      <th>CALI</th>\n",
              "      <th>CALI[DERIVED]1</th>\n",
              "      <th>DT</th>\n",
              "      <th>FACIES</th>\n",
              "      <th>FLD1</th>\n",
              "      <th>GR</th>\n",
              "      <th>...</th>\n",
              "      <th>CALI_1</th>\n",
              "      <th>NPHI_1</th>\n",
              "      <th>ZCOR</th>\n",
              "      <th>RHOB_1</th>\n",
              "      <th>RXO</th>\n",
              "      <th>SPDH</th>\n",
              "      <th>DTDS</th>\n",
              "      <th>M2R1</th>\n",
              "      <th>TH</th>\n",
              "      <th>U</th>\n",
              "    </tr>\n",
              "  </thead>\n",
              "  <tbody>\n",
              "    <tr>\n",
              "      <th>0</th>\n",
              "      <td>1275.0552</td>\n",
              "      <td>12875.0811</td>\n",
              "      <td>12875081.0</td>\n",
              "      <td>NaN</td>\n",
              "      <td>9.7141</td>\n",
              "      <td>9.7141</td>\n",
              "      <td>50.2544</td>\n",
              "      <td>NaN</td>\n",
              "      <td>NaN</td>\n",
              "      <td>50.2128</td>\n",
              "      <td>...</td>\n",
              "      <td>NaN</td>\n",
              "      <td>NaN</td>\n",
              "      <td>NaN</td>\n",
              "      <td>NaN</td>\n",
              "      <td>NaN</td>\n",
              "      <td>NaN</td>\n",
              "      <td>NaN</td>\n",
              "      <td>NaN</td>\n",
              "      <td>NaN</td>\n",
              "      <td>NaN</td>\n",
              "    </tr>\n",
              "    <tr>\n",
              "      <th>1</th>\n",
              "      <td>1275.2076</td>\n",
              "      <td>12854.2256</td>\n",
              "      <td>12854226.0</td>\n",
              "      <td>NaN</td>\n",
              "      <td>9.7848</td>\n",
              "      <td>9.7848</td>\n",
              "      <td>50.3881</td>\n",
              "      <td>NaN</td>\n",
              "      <td>NaN</td>\n",
              "      <td>49.7509</td>\n",
              "      <td>...</td>\n",
              "      <td>NaN</td>\n",
              "      <td>NaN</td>\n",
              "      <td>NaN</td>\n",
              "      <td>NaN</td>\n",
              "      <td>NaN</td>\n",
              "      <td>NaN</td>\n",
              "      <td>NaN</td>\n",
              "      <td>NaN</td>\n",
              "      <td>NaN</td>\n",
              "      <td>NaN</td>\n",
              "    </tr>\n",
              "    <tr>\n",
              "      <th>2</th>\n",
              "      <td>1275.3600</td>\n",
              "      <td>13024.1377</td>\n",
              "      <td>13024138.0</td>\n",
              "      <td>NaN</td>\n",
              "      <td>9.8300</td>\n",
              "      <td>9.8300</td>\n",
              "      <td>49.8852</td>\n",
              "      <td>NaN</td>\n",
              "      <td>NaN</td>\n",
              "      <td>48.2513</td>\n",
              "      <td>...</td>\n",
              "      <td>NaN</td>\n",
              "      <td>NaN</td>\n",
              "      <td>NaN</td>\n",
              "      <td>NaN</td>\n",
              "      <td>NaN</td>\n",
              "      <td>NaN</td>\n",
              "      <td>NaN</td>\n",
              "      <td>NaN</td>\n",
              "      <td>NaN</td>\n",
              "      <td>NaN</td>\n",
              "    </tr>\n",
              "    <tr>\n",
              "      <th>3</th>\n",
              "      <td>1275.5124</td>\n",
              "      <td>13093.3428</td>\n",
              "      <td>13093343.0</td>\n",
              "      <td>NaN</td>\n",
              "      <td>9.8587</td>\n",
              "      <td>9.8587</td>\n",
              "      <td>49.9032</td>\n",
              "      <td>NaN</td>\n",
              "      <td>NaN</td>\n",
              "      <td>46.8212</td>\n",
              "      <td>...</td>\n",
              "      <td>NaN</td>\n",
              "      <td>NaN</td>\n",
              "      <td>NaN</td>\n",
              "      <td>NaN</td>\n",
              "      <td>NaN</td>\n",
              "      <td>NaN</td>\n",
              "      <td>NaN</td>\n",
              "      <td>NaN</td>\n",
              "      <td>NaN</td>\n",
              "      <td>NaN</td>\n",
              "    </tr>\n",
              "    <tr>\n",
              "      <th>4</th>\n",
              "      <td>1275.6648</td>\n",
              "      <td>13169.9307</td>\n",
              "      <td>13169931.0</td>\n",
              "      <td>NaN</td>\n",
              "      <td>9.8756</td>\n",
              "      <td>9.8756</td>\n",
              "      <td>50.0157</td>\n",
              "      <td>NaN</td>\n",
              "      <td>NaN</td>\n",
              "      <td>45.3463</td>\n",
              "      <td>...</td>\n",
              "      <td>NaN</td>\n",
              "      <td>NaN</td>\n",
              "      <td>NaN</td>\n",
              "      <td>NaN</td>\n",
              "      <td>NaN</td>\n",
              "      <td>NaN</td>\n",
              "      <td>NaN</td>\n",
              "      <td>NaN</td>\n",
              "      <td>NaN</td>\n",
              "      <td>NaN</td>\n",
              "    </tr>\n",
              "    <tr>\n",
              "      <th>...</th>\n",
              "      <td>...</td>\n",
              "      <td>...</td>\n",
              "      <td>...</td>\n",
              "      <td>...</td>\n",
              "      <td>...</td>\n",
              "      <td>...</td>\n",
              "      <td>...</td>\n",
              "      <td>...</td>\n",
              "      <td>...</td>\n",
              "      <td>...</td>\n",
              "      <td>...</td>\n",
              "      <td>...</td>\n",
              "      <td>...</td>\n",
              "      <td>...</td>\n",
              "      <td>...</td>\n",
              "      <td>...</td>\n",
              "      <td>...</td>\n",
              "      <td>...</td>\n",
              "      <td>...</td>\n",
              "      <td>...</td>\n",
              "      <td>...</td>\n",
              "    </tr>\n",
              "    <tr>\n",
              "      <th>58494</th>\n",
              "      <td>1622.6028</td>\n",
              "      <td>6069.1309</td>\n",
              "      <td>6069130.5</td>\n",
              "      <td>NaN</td>\n",
              "      <td>8.5257</td>\n",
              "      <td>NaN</td>\n",
              "      <td>123.7404</td>\n",
              "      <td>NaN</td>\n",
              "      <td>NaN</td>\n",
              "      <td>NaN</td>\n",
              "      <td>...</td>\n",
              "      <td>NaN</td>\n",
              "      <td>0.4993</td>\n",
              "      <td>NaN</td>\n",
              "      <td>2.4639</td>\n",
              "      <td>NaN</td>\n",
              "      <td>NaN</td>\n",
              "      <td>123.7404</td>\n",
              "      <td>1.5970</td>\n",
              "      <td>NaN</td>\n",
              "      <td>NaN</td>\n",
              "    </tr>\n",
              "    <tr>\n",
              "      <th>58495</th>\n",
              "      <td>1622.7552</td>\n",
              "      <td>6067.8120</td>\n",
              "      <td>6067812.0</td>\n",
              "      <td>NaN</td>\n",
              "      <td>8.5282</td>\n",
              "      <td>NaN</td>\n",
              "      <td>123.8728</td>\n",
              "      <td>NaN</td>\n",
              "      <td>NaN</td>\n",
              "      <td>NaN</td>\n",
              "      <td>...</td>\n",
              "      <td>NaN</td>\n",
              "      <td>0.5313</td>\n",
              "      <td>NaN</td>\n",
              "      <td>2.4660</td>\n",
              "      <td>NaN</td>\n",
              "      <td>NaN</td>\n",
              "      <td>123.8728</td>\n",
              "      <td>1.6128</td>\n",
              "      <td>NaN</td>\n",
              "      <td>NaN</td>\n",
              "    </tr>\n",
              "    <tr>\n",
              "      <th>58496</th>\n",
              "      <td>1622.9076</td>\n",
              "      <td>6105.7729</td>\n",
              "      <td>6105773.0</td>\n",
              "      <td>NaN</td>\n",
              "      <td>8.5313</td>\n",
              "      <td>NaN</td>\n",
              "      <td>123.3722</td>\n",
              "      <td>NaN</td>\n",
              "      <td>NaN</td>\n",
              "      <td>NaN</td>\n",
              "      <td>...</td>\n",
              "      <td>NaN</td>\n",
              "      <td>0.5448</td>\n",
              "      <td>NaN</td>\n",
              "      <td>2.4714</td>\n",
              "      <td>NaN</td>\n",
              "      <td>NaN</td>\n",
              "      <td>123.3722</td>\n",
              "      <td>1.7043</td>\n",
              "      <td>NaN</td>\n",
              "      <td>NaN</td>\n",
              "    </tr>\n",
              "    <tr>\n",
              "      <th>58497</th>\n",
              "      <td>1623.0600</td>\n",
              "      <td>6152.9897</td>\n",
              "      <td>6152977.5</td>\n",
              "      <td>NaN</td>\n",
              "      <td>8.5331</td>\n",
              "      <td>NaN</td>\n",
              "      <td>122.6038</td>\n",
              "      <td>NaN</td>\n",
              "      <td>NaN</td>\n",
              "      <td>NaN</td>\n",
              "      <td>...</td>\n",
              "      <td>NaN</td>\n",
              "      <td>0.5364</td>\n",
              "      <td>NaN</td>\n",
              "      <td>2.4750</td>\n",
              "      <td>NaN</td>\n",
              "      <td>NaN</td>\n",
              "      <td>122.6038</td>\n",
              "      <td>1.8375</td>\n",
              "      <td>NaN</td>\n",
              "      <td>NaN</td>\n",
              "    </tr>\n",
              "    <tr>\n",
              "      <th>58498</th>\n",
              "      <td>1623.2124</td>\n",
              "      <td>6157.8291</td>\n",
              "      <td>6157829.5</td>\n",
              "      <td>NaN</td>\n",
              "      <td>8.5338</td>\n",
              "      <td>NaN</td>\n",
              "      <td>122.3045</td>\n",
              "      <td>NaN</td>\n",
              "      <td>NaN</td>\n",
              "      <td>NaN</td>\n",
              "      <td>...</td>\n",
              "      <td>NaN</td>\n",
              "      <td>0.5331</td>\n",
              "      <td>NaN</td>\n",
              "      <td>2.4709</td>\n",
              "      <td>NaN</td>\n",
              "      <td>NaN</td>\n",
              "      <td>122.3045</td>\n",
              "      <td>1.9363</td>\n",
              "      <td>NaN</td>\n",
              "      <td>NaN</td>\n",
              "    </tr>\n",
              "  </tbody>\n",
              "</table>\n",
              "<p>58499 rows × 67 columns</p>\n",
              "</div>"
            ]
          },
          "metadata": {},
          "execution_count": 18
        }
      ],
      "metadata": {
        "colab": {
          "base_uri": "https://localhost:8080/",
          "height": 626
        },
        "id": "UgQPPOJu2lcy",
        "outputId": "0be42474-a0bc-4e40-d386-5e59ce6f1b37"
      }
    },
    {
      "cell_type": "code",
      "execution_count": 19,
      "source": [
        "df.info()"
      ],
      "outputs": [
        {
          "output_type": "stream",
          "name": "stdout",
          "text": [
            "<class 'pandas.core.frame.DataFrame'>\n",
            "RangeIndex: 58499 entries, 0 to 58498\n",
            "Data columns (total 67 columns):\n",
            " #   Column              Non-Null Count  Dtype  \n",
            "---  ------              --------------  -----  \n",
            " 0   DEPTH               58499 non-null  float64\n",
            " 1   ACOUSTICIMPEDANCE1  58499 non-null  float64\n",
            " 2   AI                  55259 non-null  float64\n",
            " 3   AVG_PIGN            323 non-null    float64\n",
            " 4   CALI                54981 non-null  float64\n",
            " 5   CALI[DERIVED]1      44090 non-null  float64\n",
            " 6   DT                  58499 non-null  float64\n",
            " 7   FACIES              52641 non-null  float64\n",
            " 8   FLD1                3963 non-null   float64\n",
            " 9   GR                  58379 non-null  float64\n",
            " 10  LLD                 44942 non-null  float64\n",
            " 11  LLS                 27394 non-null  float64\n",
            " 12  DEPTH_1             50885 non-null  float64\n",
            " 13  NPHI                58172 non-null  float64\n",
            " 14  ONE-WAYTIME1        15713 non-null  float64\n",
            " 15  PIGN_MODELLING      51101 non-null  float64\n",
            " 16  PIMP                55259 non-null  float64\n",
            " 17  RHOB                58499 non-null  float64\n",
            " 18  RT_MODELLING        53629 non-null  float64\n",
            " 19  SP                  55992 non-null  float64\n",
            " 20  SUWI_MODELLING      51099 non-null  float64\n",
            " 21  TDVSS               58437 non-null  float64\n",
            " 22  ZLT                 44562 non-null  float64\n",
            " 23  WELL                58499 non-null  object \n",
            " 24  DFL                 23458 non-null  float64\n",
            " 25  HDRS                26951 non-null  float64\n",
            " 26  HMRS                26951 non-null  float64\n",
            " 27  PERF_INT            1569 non-null   float64\n",
            " 28  PERMEABILITY        28149 non-null  float64\n",
            " 29  PIGN                46949 non-null  float64\n",
            " 30  RT_POWER            51379 non-null  float64\n",
            " 31  SUWI                46947 non-null  float64\n",
            " 32  VCL                 46947 non-null  float64\n",
            " 33  WATER_VOL           43735 non-null  float64\n",
            " 34  LL3                 12373 non-null  float64\n",
            " 35  BS                  6706 non-null   float64\n",
            " 36  CALI1               2389 non-null   float64\n",
            " 37  DEVI                10283 non-null  float64\n",
            " 38  DT1                 6130 non-null   float64\n",
            " 39  PHIT                16532 non-null  float64\n",
            " 40  PIGE                5245 non-null   float64\n",
            " 41  LLD_1               9518 non-null   float64\n",
            " 42  SXWI                27938 non-null  float64\n",
            " 43  PEF                 19419 non-null  float64\n",
            " 44  AZI1                2487 non-null   float64\n",
            " 45  TEMP                14514 non-null  float64\n",
            " 46  DRES                2765 non-null   float64\n",
            " 47  DT2                 2765 non-null   float64\n",
            " 48  DT4P                5854 non-null   float64\n",
            " 49  GR_EDTC             2765 non-null   float64\n",
            " 50  M2R2                8568 non-null   float64\n",
            " 51  LLS_1               238 non-null    float64\n",
            " 52  MSFL                2765 non-null   float64\n",
            " 53  PR                  2757 non-null   float64\n",
            " 54  TENS                2765 non-null   float64\n",
            " 55  VPVS                2757 non-null   float64\n",
            " 56  BIT                 5553 non-null   float64\n",
            " 57  CALI_1              2999 non-null   float64\n",
            " 58  NPHI_1              10811 non-null  float64\n",
            " 59  ZCOR                2998 non-null   float64\n",
            " 60  RHOB_1              10899 non-null  float64\n",
            " 61  RXO                 1552 non-null   float64\n",
            " 62  SPDH                3069 non-null   float64\n",
            " 63  DTDS                2546 non-null   float64\n",
            " 64  M2R1                2546 non-null   float64\n",
            " 65  TH                  2509 non-null   float64\n",
            " 66  U                   2509 non-null   float64\n",
            "dtypes: float64(66), object(1)\n",
            "memory usage: 29.9+ MB\n"
          ]
        }
      ],
      "metadata": {
        "colab": {
          "base_uri": "https://localhost:8080/"
        },
        "id": "YVAXVS2H2lc0",
        "outputId": "9ba9d02c-43d2-4052-9280-378e14dcc5f6"
      }
    },
    {
      "cell_type": "code",
      "execution_count": 20,
      "source": [
        "df.shape[1]"
      ],
      "outputs": [
        {
          "output_type": "execute_result",
          "data": {
            "text/plain": [
              "67"
            ]
          },
          "metadata": {},
          "execution_count": 20
        }
      ],
      "metadata": {
        "colab": {
          "base_uri": "https://localhost:8080/"
        },
        "id": "2LEK3lZb2lc0",
        "outputId": "d4391471-4df9-48e8-8260-2bc5a657fb24"
      }
    },
    {
      "cell_type": "code",
      "execution_count": 21,
      "source": [
        "obj = df.isnull().sum() \n",
        "for key,value in obj.iteritems():\n",
        "    print(key,\",\",value)"
      ],
      "outputs": [
        {
          "output_type": "stream",
          "name": "stdout",
          "text": [
            "DEPTH , 0\n",
            "ACOUSTICIMPEDANCE1 , 0\n",
            "AI , 3240\n",
            "AVG_PIGN , 58176\n",
            "CALI , 3518\n",
            "CALI[DERIVED]1 , 14409\n",
            "DT , 0\n",
            "FACIES , 5858\n",
            "FLD1 , 54536\n",
            "GR , 120\n",
            "LLD , 13557\n",
            "LLS , 31105\n",
            "DEPTH_1 , 7614\n",
            "NPHI , 327\n",
            "ONE-WAYTIME1 , 42786\n",
            "PIGN_MODELLING , 7398\n",
            "PIMP , 3240\n",
            "RHOB , 0\n",
            "RT_MODELLING , 4870\n",
            "SP , 2507\n",
            "SUWI_MODELLING , 7400\n",
            "TDVSS , 62\n",
            "ZLT , 13937\n",
            "WELL , 0\n",
            "DFL , 35041\n",
            "HDRS , 31548\n",
            "HMRS , 31548\n",
            "PERF_INT , 56930\n",
            "PERMEABILITY , 30350\n",
            "PIGN , 11550\n",
            "RT_POWER , 7120\n",
            "SUWI , 11552\n",
            "VCL , 11552\n",
            "WATER_VOL , 14764\n",
            "LL3 , 46126\n",
            "BS , 51793\n",
            "CALI1 , 56110\n",
            "DEVI , 48216\n",
            "DT1 , 52369\n",
            "PHIT , 41967\n",
            "PIGE , 53254\n",
            "LLD_1 , 48981\n",
            "SXWI , 30561\n",
            "PEF , 39080\n",
            "AZI1 , 56012\n",
            "TEMP , 43985\n",
            "DRES , 55734\n",
            "DT2 , 55734\n",
            "DT4P , 52645\n",
            "GR_EDTC , 55734\n",
            "M2R2 , 49931\n",
            "LLS_1 , 58261\n",
            "MSFL , 55734\n",
            "PR , 55742\n",
            "TENS , 55734\n",
            "VPVS , 55742\n",
            "BIT , 52946\n",
            "CALI_1 , 55500\n",
            "NPHI_1 , 47688\n",
            "ZCOR , 55501\n",
            "RHOB_1 , 47600\n",
            "RXO , 56947\n",
            "SPDH , 55430\n",
            "DTDS , 55953\n",
            "M2R1 , 55953\n",
            "TH , 55990\n",
            "U , 55990\n"
          ]
        }
      ],
      "metadata": {
        "colab": {
          "base_uri": "https://localhost:8080/"
        },
        "id": "qYzHnjd72lc1",
        "outputId": "952c9165-b806-4f1e-b086-7e0ebbbe4e3d"
      }
    },
    {
      "cell_type": "code",
      "execution_count": 22,
      "source": [
        "#Selecting required feature\n",
        "df=df[[\"DT\",\"GR\",\"NPHI\",\"RHOB\",\"FACIES\"]]"
      ],
      "outputs": [],
      "metadata": {
        "id": "sesrCCxt2lc1"
      }
    },
    {
      "cell_type": "code",
      "execution_count": 23,
      "source": [
        "df"
      ],
      "outputs": [
        {
          "output_type": "execute_result",
          "data": {
            "text/plain": [
              "             DT       GR    NPHI    RHOB  FACIES\n",
              "0       50.2544  50.2128  0.5340  2.1228     NaN\n",
              "1       50.3881  49.7509  0.5316  2.1250     NaN\n",
              "2       49.8852  48.2513  0.5126  2.1316     NaN\n",
              "3       49.9032  46.8212  0.5137  2.1437     NaN\n",
              "4       50.0157  45.3463  0.5472  2.1611     NaN\n",
              "...         ...      ...     ...     ...     ...\n",
              "58494  123.7404      NaN  0.4993  2.4639     NaN\n",
              "58495  123.8728      NaN  0.5313  2.4660     NaN\n",
              "58496  123.3722      NaN  0.5448  2.4714     NaN\n",
              "58497  122.6038      NaN  0.5364  2.4750     NaN\n",
              "58498  122.3045      NaN  0.5331  2.4709     NaN\n",
              "\n",
              "[58499 rows x 5 columns]"
            ],
            "text/html": [
              "<div>\n",
              "<style scoped>\n",
              "    .dataframe tbody tr th:only-of-type {\n",
              "        vertical-align: middle;\n",
              "    }\n",
              "\n",
              "    .dataframe tbody tr th {\n",
              "        vertical-align: top;\n",
              "    }\n",
              "\n",
              "    .dataframe thead th {\n",
              "        text-align: right;\n",
              "    }\n",
              "</style>\n",
              "<table border=\"1\" class=\"dataframe\">\n",
              "  <thead>\n",
              "    <tr style=\"text-align: right;\">\n",
              "      <th></th>\n",
              "      <th>DT</th>\n",
              "      <th>GR</th>\n",
              "      <th>NPHI</th>\n",
              "      <th>RHOB</th>\n",
              "      <th>FACIES</th>\n",
              "    </tr>\n",
              "  </thead>\n",
              "  <tbody>\n",
              "    <tr>\n",
              "      <th>0</th>\n",
              "      <td>50.2544</td>\n",
              "      <td>50.2128</td>\n",
              "      <td>0.5340</td>\n",
              "      <td>2.1228</td>\n",
              "      <td>NaN</td>\n",
              "    </tr>\n",
              "    <tr>\n",
              "      <th>1</th>\n",
              "      <td>50.3881</td>\n",
              "      <td>49.7509</td>\n",
              "      <td>0.5316</td>\n",
              "      <td>2.1250</td>\n",
              "      <td>NaN</td>\n",
              "    </tr>\n",
              "    <tr>\n",
              "      <th>2</th>\n",
              "      <td>49.8852</td>\n",
              "      <td>48.2513</td>\n",
              "      <td>0.5126</td>\n",
              "      <td>2.1316</td>\n",
              "      <td>NaN</td>\n",
              "    </tr>\n",
              "    <tr>\n",
              "      <th>3</th>\n",
              "      <td>49.9032</td>\n",
              "      <td>46.8212</td>\n",
              "      <td>0.5137</td>\n",
              "      <td>2.1437</td>\n",
              "      <td>NaN</td>\n",
              "    </tr>\n",
              "    <tr>\n",
              "      <th>4</th>\n",
              "      <td>50.0157</td>\n",
              "      <td>45.3463</td>\n",
              "      <td>0.5472</td>\n",
              "      <td>2.1611</td>\n",
              "      <td>NaN</td>\n",
              "    </tr>\n",
              "    <tr>\n",
              "      <th>...</th>\n",
              "      <td>...</td>\n",
              "      <td>...</td>\n",
              "      <td>...</td>\n",
              "      <td>...</td>\n",
              "      <td>...</td>\n",
              "    </tr>\n",
              "    <tr>\n",
              "      <th>58494</th>\n",
              "      <td>123.7404</td>\n",
              "      <td>NaN</td>\n",
              "      <td>0.4993</td>\n",
              "      <td>2.4639</td>\n",
              "      <td>NaN</td>\n",
              "    </tr>\n",
              "    <tr>\n",
              "      <th>58495</th>\n",
              "      <td>123.8728</td>\n",
              "      <td>NaN</td>\n",
              "      <td>0.5313</td>\n",
              "      <td>2.4660</td>\n",
              "      <td>NaN</td>\n",
              "    </tr>\n",
              "    <tr>\n",
              "      <th>58496</th>\n",
              "      <td>123.3722</td>\n",
              "      <td>NaN</td>\n",
              "      <td>0.5448</td>\n",
              "      <td>2.4714</td>\n",
              "      <td>NaN</td>\n",
              "    </tr>\n",
              "    <tr>\n",
              "      <th>58497</th>\n",
              "      <td>122.6038</td>\n",
              "      <td>NaN</td>\n",
              "      <td>0.5364</td>\n",
              "      <td>2.4750</td>\n",
              "      <td>NaN</td>\n",
              "    </tr>\n",
              "    <tr>\n",
              "      <th>58498</th>\n",
              "      <td>122.3045</td>\n",
              "      <td>NaN</td>\n",
              "      <td>0.5331</td>\n",
              "      <td>2.4709</td>\n",
              "      <td>NaN</td>\n",
              "    </tr>\n",
              "  </tbody>\n",
              "</table>\n",
              "<p>58499 rows × 5 columns</p>\n",
              "</div>"
            ]
          },
          "metadata": {},
          "execution_count": 23
        }
      ],
      "metadata": {
        "colab": {
          "base_uri": "https://localhost:8080/",
          "height": 419
        },
        "id": "DvKLGMVb2lc2",
        "outputId": "dcb6078d-572b-44ba-ef4f-4bc0354896e3"
      }
    },
    {
      "cell_type": "code",
      "execution_count": 24,
      "source": [
        "df.isnull().sum()"
      ],
      "outputs": [
        {
          "output_type": "execute_result",
          "data": {
            "text/plain": [
              "DT           0\n",
              "GR         120\n",
              "NPHI       327\n",
              "RHOB         0\n",
              "FACIES    5858\n",
              "dtype: int64"
            ]
          },
          "metadata": {},
          "execution_count": 24
        }
      ],
      "metadata": {
        "colab": {
          "base_uri": "https://localhost:8080/"
        },
        "id": "pSjSl-Iz2lc2",
        "outputId": "313c67ad-1810-46d8-c828-3075126a0774"
      }
    },
    {
      "cell_type": "code",
      "execution_count": 25,
      "source": [
        "#Exporting required features to csv\n",
        "df.to_csv(\"FACIES_TRAIN.csv\",index=False)"
      ],
      "outputs": [],
      "metadata": {
        "id": "u68CyrEh2lc3"
      }
    },
    {
      "cell_type": "code",
      "execution_count": 26,
      "source": [
        "df=pd.read_csv(\"FACIES_TRAIN.csv\")"
      ],
      "outputs": [],
      "metadata": {
        "id": "T3M1ZkWB2lc3"
      }
    },
    {
      "cell_type": "code",
      "execution_count": 27,
      "source": [
        "df.head(20)"
      ],
      "outputs": [
        {
          "output_type": "execute_result",
          "data": {
            "text/plain": [
              "         DT       GR    NPHI    RHOB  FACIES\n",
              "0   50.2544  50.2128  0.5340  2.1228     NaN\n",
              "1   50.3881  49.7509  0.5316  2.1250     NaN\n",
              "2   49.8852  48.2513  0.5126  2.1316     NaN\n",
              "3   49.9032  46.8212  0.5137  2.1437     NaN\n",
              "4   50.0157  45.3463  0.5472  2.1611     NaN\n",
              "5   50.6831  44.0819  0.5550  2.1740     NaN\n",
              "6   51.4311  43.6654  0.5612  2.1707     NaN\n",
              "7   52.1678  43.3915  0.5566  2.1595     NaN\n",
              "8   52.2883  44.1249  0.5390  2.1534     NaN\n",
              "9   51.5991  46.1805  0.5245  2.1551     NaN\n",
              "10  50.6185  48.6156  0.5152  2.1542     NaN\n",
              "11  50.5171  49.6999  0.5152  2.1535     NaN\n",
              "12  50.1209  49.4600  0.5180  2.1586     NaN\n",
              "13  50.0558  48.3665  0.5156  2.1662     NaN\n",
              "14  49.4216  46.8647  0.5070  2.1705     NaN\n",
              "15  47.9804  45.7345  0.4913  2.1702     NaN\n",
              "16  46.3324  45.5512  0.4696  2.1657     NaN\n",
              "17  45.1378  45.9222  0.4570  2.1579     NaN\n",
              "18  45.2291  46.4844  0.4654  2.1533     NaN\n",
              "19  45.6106  49.6481  0.4952  2.1526     NaN"
            ],
            "text/html": [
              "<div>\n",
              "<style scoped>\n",
              "    .dataframe tbody tr th:only-of-type {\n",
              "        vertical-align: middle;\n",
              "    }\n",
              "\n",
              "    .dataframe tbody tr th {\n",
              "        vertical-align: top;\n",
              "    }\n",
              "\n",
              "    .dataframe thead th {\n",
              "        text-align: right;\n",
              "    }\n",
              "</style>\n",
              "<table border=\"1\" class=\"dataframe\">\n",
              "  <thead>\n",
              "    <tr style=\"text-align: right;\">\n",
              "      <th></th>\n",
              "      <th>DT</th>\n",
              "      <th>GR</th>\n",
              "      <th>NPHI</th>\n",
              "      <th>RHOB</th>\n",
              "      <th>FACIES</th>\n",
              "    </tr>\n",
              "  </thead>\n",
              "  <tbody>\n",
              "    <tr>\n",
              "      <th>0</th>\n",
              "      <td>50.2544</td>\n",
              "      <td>50.2128</td>\n",
              "      <td>0.5340</td>\n",
              "      <td>2.1228</td>\n",
              "      <td>NaN</td>\n",
              "    </tr>\n",
              "    <tr>\n",
              "      <th>1</th>\n",
              "      <td>50.3881</td>\n",
              "      <td>49.7509</td>\n",
              "      <td>0.5316</td>\n",
              "      <td>2.1250</td>\n",
              "      <td>NaN</td>\n",
              "    </tr>\n",
              "    <tr>\n",
              "      <th>2</th>\n",
              "      <td>49.8852</td>\n",
              "      <td>48.2513</td>\n",
              "      <td>0.5126</td>\n",
              "      <td>2.1316</td>\n",
              "      <td>NaN</td>\n",
              "    </tr>\n",
              "    <tr>\n",
              "      <th>3</th>\n",
              "      <td>49.9032</td>\n",
              "      <td>46.8212</td>\n",
              "      <td>0.5137</td>\n",
              "      <td>2.1437</td>\n",
              "      <td>NaN</td>\n",
              "    </tr>\n",
              "    <tr>\n",
              "      <th>4</th>\n",
              "      <td>50.0157</td>\n",
              "      <td>45.3463</td>\n",
              "      <td>0.5472</td>\n",
              "      <td>2.1611</td>\n",
              "      <td>NaN</td>\n",
              "    </tr>\n",
              "    <tr>\n",
              "      <th>5</th>\n",
              "      <td>50.6831</td>\n",
              "      <td>44.0819</td>\n",
              "      <td>0.5550</td>\n",
              "      <td>2.1740</td>\n",
              "      <td>NaN</td>\n",
              "    </tr>\n",
              "    <tr>\n",
              "      <th>6</th>\n",
              "      <td>51.4311</td>\n",
              "      <td>43.6654</td>\n",
              "      <td>0.5612</td>\n",
              "      <td>2.1707</td>\n",
              "      <td>NaN</td>\n",
              "    </tr>\n",
              "    <tr>\n",
              "      <th>7</th>\n",
              "      <td>52.1678</td>\n",
              "      <td>43.3915</td>\n",
              "      <td>0.5566</td>\n",
              "      <td>2.1595</td>\n",
              "      <td>NaN</td>\n",
              "    </tr>\n",
              "    <tr>\n",
              "      <th>8</th>\n",
              "      <td>52.2883</td>\n",
              "      <td>44.1249</td>\n",
              "      <td>0.5390</td>\n",
              "      <td>2.1534</td>\n",
              "      <td>NaN</td>\n",
              "    </tr>\n",
              "    <tr>\n",
              "      <th>9</th>\n",
              "      <td>51.5991</td>\n",
              "      <td>46.1805</td>\n",
              "      <td>0.5245</td>\n",
              "      <td>2.1551</td>\n",
              "      <td>NaN</td>\n",
              "    </tr>\n",
              "    <tr>\n",
              "      <th>10</th>\n",
              "      <td>50.6185</td>\n",
              "      <td>48.6156</td>\n",
              "      <td>0.5152</td>\n",
              "      <td>2.1542</td>\n",
              "      <td>NaN</td>\n",
              "    </tr>\n",
              "    <tr>\n",
              "      <th>11</th>\n",
              "      <td>50.5171</td>\n",
              "      <td>49.6999</td>\n",
              "      <td>0.5152</td>\n",
              "      <td>2.1535</td>\n",
              "      <td>NaN</td>\n",
              "    </tr>\n",
              "    <tr>\n",
              "      <th>12</th>\n",
              "      <td>50.1209</td>\n",
              "      <td>49.4600</td>\n",
              "      <td>0.5180</td>\n",
              "      <td>2.1586</td>\n",
              "      <td>NaN</td>\n",
              "    </tr>\n",
              "    <tr>\n",
              "      <th>13</th>\n",
              "      <td>50.0558</td>\n",
              "      <td>48.3665</td>\n",
              "      <td>0.5156</td>\n",
              "      <td>2.1662</td>\n",
              "      <td>NaN</td>\n",
              "    </tr>\n",
              "    <tr>\n",
              "      <th>14</th>\n",
              "      <td>49.4216</td>\n",
              "      <td>46.8647</td>\n",
              "      <td>0.5070</td>\n",
              "      <td>2.1705</td>\n",
              "      <td>NaN</td>\n",
              "    </tr>\n",
              "    <tr>\n",
              "      <th>15</th>\n",
              "      <td>47.9804</td>\n",
              "      <td>45.7345</td>\n",
              "      <td>0.4913</td>\n",
              "      <td>2.1702</td>\n",
              "      <td>NaN</td>\n",
              "    </tr>\n",
              "    <tr>\n",
              "      <th>16</th>\n",
              "      <td>46.3324</td>\n",
              "      <td>45.5512</td>\n",
              "      <td>0.4696</td>\n",
              "      <td>2.1657</td>\n",
              "      <td>NaN</td>\n",
              "    </tr>\n",
              "    <tr>\n",
              "      <th>17</th>\n",
              "      <td>45.1378</td>\n",
              "      <td>45.9222</td>\n",
              "      <td>0.4570</td>\n",
              "      <td>2.1579</td>\n",
              "      <td>NaN</td>\n",
              "    </tr>\n",
              "    <tr>\n",
              "      <th>18</th>\n",
              "      <td>45.2291</td>\n",
              "      <td>46.4844</td>\n",
              "      <td>0.4654</td>\n",
              "      <td>2.1533</td>\n",
              "      <td>NaN</td>\n",
              "    </tr>\n",
              "    <tr>\n",
              "      <th>19</th>\n",
              "      <td>45.6106</td>\n",
              "      <td>49.6481</td>\n",
              "      <td>0.4952</td>\n",
              "      <td>2.1526</td>\n",
              "      <td>NaN</td>\n",
              "    </tr>\n",
              "  </tbody>\n",
              "</table>\n",
              "</div>"
            ]
          },
          "metadata": {},
          "execution_count": 27
        }
      ],
      "metadata": {
        "colab": {
          "base_uri": "https://localhost:8080/",
          "height": 669
        },
        "id": "qMyMBTQZ2lc3",
        "outputId": "40a58cb2-9694-43ce-d31f-5c9b662542ac"
      }
    },
    {
      "cell_type": "code",
      "execution_count": 28,
      "source": [
        "df.shape"
      ],
      "outputs": [
        {
          "output_type": "execute_result",
          "data": {
            "text/plain": [
              "(58499, 5)"
            ]
          },
          "metadata": {},
          "execution_count": 28
        }
      ],
      "metadata": {
        "colab": {
          "base_uri": "https://localhost:8080/"
        },
        "id": "9Mt1vQ652lc4",
        "outputId": "46d30a7d-f715-4ffa-dd95-6dcff2900462"
      }
    },
    {
      "cell_type": "code",
      "execution_count": 29,
      "source": [
        "df.info()"
      ],
      "outputs": [
        {
          "output_type": "stream",
          "name": "stdout",
          "text": [
            "<class 'pandas.core.frame.DataFrame'>\n",
            "RangeIndex: 58499 entries, 0 to 58498\n",
            "Data columns (total 5 columns):\n",
            " #   Column  Non-Null Count  Dtype  \n",
            "---  ------  --------------  -----  \n",
            " 0   DT      58499 non-null  float64\n",
            " 1   GR      58379 non-null  float64\n",
            " 2   NPHI    58172 non-null  float64\n",
            " 3   RHOB    58499 non-null  float64\n",
            " 4   FACIES  52641 non-null  float64\n",
            "dtypes: float64(5)\n",
            "memory usage: 2.2 MB\n"
          ]
        }
      ],
      "metadata": {
        "colab": {
          "base_uri": "https://localhost:8080/"
        },
        "id": "a_CRgmif2lc4",
        "outputId": "bbdd1be5-dd84-4122-88b1-46740bf421d2"
      }
    },
    {
      "cell_type": "code",
      "execution_count": 30,
      "source": [
        "sns.heatmap(df.isnull())"
      ],
      "outputs": [
        {
          "output_type": "execute_result",
          "data": {
            "text/plain": [
              "<AxesSubplot:>"
            ]
          },
          "metadata": {},
          "execution_count": 30
        }
      ],
      "metadata": {
        "colab": {
          "base_uri": "https://localhost:8080/",
          "height": 286
        },
        "id": "lmdffYEQ2lc5",
        "outputId": "035f3702-0009-4e83-f380-7966fd7765dd"
      }
    },
    {
      "cell_type": "code",
      "execution_count": null,
      "source": [
        "null_gr = sns.distplot(df.GR.dropna())"
      ],
      "outputs": [],
      "metadata": {
        "colab": {
          "base_uri": "https://localhost:8080/",
          "height": 279
        },
        "id": "UkpJUtu82lc6",
        "outputId": "b846182f-c6e3-420b-fa12-5ace954543ec"
      }
    },
    {
      "cell_type": "code",
      "execution_count": null,
      "source": [
        "df.GR.describe()"
      ],
      "outputs": [],
      "metadata": {
        "colab": {
          "base_uri": "https://localhost:8080/"
        },
        "id": "K9hTb_Pm2lc6",
        "outputId": "5ecf82c8-ecd8-4fd1-cacf-51bbdf7cb5bb"
      }
    },
    {
      "cell_type": "code",
      "execution_count": null,
      "source": [
        "null_nphi=sns.distplot(df.NPHI.dropna())"
      ],
      "outputs": [],
      "metadata": {
        "colab": {
          "base_uri": "https://localhost:8080/",
          "height": 280
        },
        "id": "gMY3wDpR2lc7",
        "outputId": "d774325e-09a9-40ff-849b-d211d33df7c5"
      }
    },
    {
      "cell_type": "code",
      "execution_count": null,
      "source": [
        "df.NPHI.describe()"
      ],
      "outputs": [],
      "metadata": {
        "colab": {
          "base_uri": "https://localhost:8080/"
        },
        "id": "a9iU4JPk2lc7",
        "outputId": "1199311e-f600-49b4-9681-9908b98d2738"
      }
    },
    {
      "cell_type": "code",
      "execution_count": null,
      "source": [
        "sns.countplot(x=\"FACIES\",data=df)"
      ],
      "outputs": [],
      "metadata": {
        "colab": {
          "base_uri": "https://localhost:8080/",
          "height": 296
        },
        "id": "05YHYope2lc8",
        "outputId": "5e887f34-2fc5-4469-f8bb-f38a31f38e9c"
      }
    },
    {
      "cell_type": "code",
      "execution_count": null,
      "source": [
        "df.FACIES.value_counts(dropna=False)"
      ],
      "outputs": [],
      "metadata": {
        "colab": {
          "base_uri": "https://localhost:8080/"
        },
        "id": "MUaww0-O2lc8",
        "outputId": "8722f93a-89f2-4e71-e8d1-31fc740d77ff"
      }
    },
    {
      "cell_type": "code",
      "execution_count": null,
      "source": [
        "def imputing(imputation_strategy,imputing_data):\n",
        "    df=imputing_data\n",
        "    if imputation_strategy == \"Mean\":\n",
        "        df.GR.fillna(df.GR.mean(),inplace=True)\n",
        "        print( df.GR.isnull().sum())\n",
        "        print(\"Graph (GR) after filling null values with mean\")\n",
        "        sns.displot(df.GR.dropna())\n",
        "        df.NPHI.fillna(df.NPHI.mean(),inplace=True)\n",
        "        print(\"Graph (NPHI) after filling null values with mean\")\n",
        "        print(df.NPHI.isnull().sum())\n",
        "        sns.displot(df.NPHI.dropna())\n",
        "        #dropping FACIES rows with null\n",
        "        df.dropna(axis=0,inplace=True)\n",
        "        print(df.isnull().sum())\n",
        "        df['FACIES'] = df.FACIES.astype(np.int64)\n",
        "        df.info()\n",
        "        df.FACIES.describe()\n",
        "        return df\n",
        "\n",
        "    elif imputation_strategy == \"bffill\":\n",
        "        df = df.ffill(axis = 0)\n",
        "        df = df.bfill(axis = 0)\n",
        "        df['FACIES'] = df.FACIES.astype(np.int64)\n",
        "        print(df.isnull().sum())\n",
        "        return df\n",
        "\n",
        "    elif imputation_strategy == \"KNNImputer\":\n",
        "        knn= KNNImputer(n_neighbors=3)\n",
        "        X=df.drop('FACIES',1)\n",
        "        t=knn.fit_transform(X)\n",
        "        X=pd.DataFrame(t)\n",
        "        Y=df['FACIES']\n",
        "        Y=Y.ffill(axis=0)\n",
        "        Y=Y.bfill(axis=0)\n",
        "        X['FACIES']=Y\n",
        "        df=X\n",
        "        df['FACIES'] = df.FACIES.astype(np.int64)\n",
        "        d=['DT','GR','NPHI','RHOB']\n",
        "        for i in range(4):\n",
        "            df.columns.values[i]=d[i]\n",
        "        return df\n",
        "    \n",
        "    elif imputation_strategy == \"IterativeImputer\":\n",
        "        lr=LinearRegression()    #can use other regressions too. / default is beysian\n",
        "        imp=IterativeImputer(max_iter=3)\n",
        "        X=df.drop('FACIES',1)\n",
        "        t=imp.fit_transform(X)\n",
        "        X=pd.DataFrame(t)\n",
        "        Y=df['FACIES']\n",
        "        Y=Y.ffill(axis=0)\n",
        "        Y=Y.bfill(axis=0)\n",
        "        X['FACIES']=Y\n",
        "        df=X\n",
        "        df['FACIES'] = df.FACIES.astype(np.int64)\n",
        "        d=['DT','GR','NPHI','RHOB']\n",
        "        for i in range(4):\n",
        "            df.columns.values[i]=d[i]\n",
        "        return df\n",
        "\n",
        "    elif imputation_strategy == \"KNNimputer_floor\" :\n",
        "        X=df\n",
        "        knn= KNNImputer(n_neighbors=3)\n",
        "        t=knn.fit_transform(df)\n",
        "        df=pd.DataFrame(t)\n",
        "        d=['DT','GR','NPHI','RHOB','FACIES']\n",
        "        df['FACIES1'] = X.FACIES\n",
        "        for i in range(5):\n",
        "            df.columns.values[i]=d[i]\n",
        "        df=df.drop('FACIES1',1)\n",
        "        df['FACIES'] = df.FACIES.astype(np.int64)\n",
        "        return df\n",
        "    \n",
        "    elif imputation_strategy == \"IterativeImputer_floor\" :\n",
        "        X=df\n",
        "        lr=LinearRegression()\n",
        "        imp= IterativeImputer(max_iter=3)\n",
        "        t=imp.fit_transform(df)\n",
        "        df=pd.DataFrame(t)\n",
        "        d=['DT','GR','NPHI','RHOB','FACIES']\n",
        "        df['FACIES1'] = X.FACIES\n",
        "        for i in range(5):\n",
        "            df.columns.values[i]=d[i]\n",
        "        df=df.drop('FACIES1',1)\n",
        "        df['FACIES'] = df.FACIES.astype(np.int64)\n",
        "        return df\n",
        "\n",
        "    elif imputation_strategy == \"KNNBinning\" :\n",
        "        X=df\n",
        "        knn= KNNImputer(n_neighbors=3)\n",
        "        t=knn.fit_transform(df)\n",
        "        df=pd.DataFrame(t)\n",
        "        d=['DT','GR','NPHI','RHOB','FACIES']\n",
        "        df['FACIES1'] = X.FACIES\n",
        "        for i in range(5):\n",
        "            df.columns.values[i]=d[i]\n",
        "        df=df.drop('FACIES1',1)\n",
        "        #df['FACIES'] = pd.cut(x=df['FACIES'],bins=[0,0.5,1.5,2.5,3.5,4.0], labels=['0','1','2','3','4'])\n",
        "        return df\n",
        "\n",
        "    elif imputation_strategy == \"dropna\":\n",
        "        df=df.dropna(axis=0)\n",
        "        return df"
      ],
      "outputs": [],
      "metadata": {
        "id": "nM-VKL8n2lc8"
      }
    },
    {
      "cell_type": "code",
      "execution_count": null,
      "source": [
        "imputation_strategy = [\"Mean\" , \"bffill\" , \"KNNImputer\" , \"IterativeImputer\" , \"KNNimputer_floor\" , \"IterativeImputer_floor\" , \"KNNBinning\",\"dropna\"]\n",
        "#select option from 0-7 (6 is experimental)\n",
        "optionimputation=4\n",
        "df=imputing(imputation_strategy[optionimputation],df)\n"
      ],
      "outputs": [],
      "metadata": {
        "id": "edu7IY6c2lc9"
      }
    },
    {
      "cell_type": "code",
      "execution_count": null,
      "source": [
        "#if option==6:\n",
        "#    df['FACIES'] = pd.cut(x=df['FACIES'],bins=[0.0,0.5,1.5,2.5,3.5,4.0], labels=['0','1','2','3','4'])\n",
        "    "
      ],
      "outputs": [],
      "metadata": {
        "id": "3F6QGO5-2lc-"
      }
    },
    {
      "cell_type": "code",
      "execution_count": null,
      "source": [
        "df.info()"
      ],
      "outputs": [],
      "metadata": {
        "colab": {
          "base_uri": "https://localhost:8080/"
        },
        "id": "kYU7IMQA2lc-",
        "outputId": "28dc90f0-1b4b-4aaf-ab4c-b0bc54cba8bd"
      }
    },
    {
      "cell_type": "code",
      "execution_count": null,
      "source": [
        "df.isnull().sum()"
      ],
      "outputs": [],
      "metadata": {
        "colab": {
          "base_uri": "https://localhost:8080/"
        },
        "id": "8pFUf96i2lc_",
        "outputId": "de2f3058-f775-4e6d-c85e-89319c3aabea"
      }
    },
    {
      "cell_type": "code",
      "execution_count": null,
      "source": [
        "df.to_csv(\"FACIES_imputed.csv\",index=False)\n",
        "df=pd.read_csv(\"FACIES_imputed.csv\")"
      ],
      "outputs": [],
      "metadata": {
        "id": "PVAXAyni2lc_"
      }
    },
    {
      "cell_type": "code",
      "execution_count": null,
      "source": [
        "sns.displot(df.GR.dropna())"
      ],
      "outputs": [],
      "metadata": {
        "colab": {
          "base_uri": "https://localhost:8080/",
          "height": 386
        },
        "id": "eHj-UMyZ2lc_",
        "outputId": "cad9d59b-7d9b-42d4-80e3-c1a585056f52"
      }
    },
    {
      "cell_type": "code",
      "execution_count": null,
      "source": [
        "print(\"WHEN GR WAS NULL\")\n",
        "null_gr.figure"
      ],
      "outputs": [],
      "metadata": {
        "colab": {
          "base_uri": "https://localhost:8080/",
          "height": 296
        },
        "id": "99wUO2e52lc_",
        "outputId": "58687782-20b8-43f7-c55c-e39a3d127c70"
      }
    },
    {
      "cell_type": "code",
      "execution_count": null,
      "source": [
        "sns.displot(df.NPHI.dropna()) "
      ],
      "outputs": [],
      "metadata": {
        "colab": {
          "base_uri": "https://localhost:8080/",
          "height": 386
        },
        "id": "nbtZbZmh2ldA",
        "outputId": "e568e621-4239-4c74-b577-335eb69f1ee3"
      }
    },
    {
      "cell_type": "code",
      "execution_count": null,
      "source": [
        "print(\"WHEN NPHI WAS NULL\")\n",
        "null_nphi.figure"
      ],
      "outputs": [],
      "metadata": {
        "colab": {
          "base_uri": "https://localhost:8080/",
          "height": 297
        },
        "id": "0juaZdK32ldA",
        "outputId": "60e8cec3-9370-482e-e777-a7aa077de5b0"
      }
    },
    {
      "cell_type": "code",
      "execution_count": null,
      "source": [
        "sns.countplot(x=\"FACIES\",data=df)"
      ],
      "outputs": [],
      "metadata": {
        "colab": {
          "base_uri": "https://localhost:8080/",
          "height": 296
        },
        "id": "eZJDpIKM2ldB",
        "outputId": "b5b4379f-2bfe-4929-b1da-497b497e7a26"
      }
    },
    {
      "cell_type": "markdown",
      "source": [
        "# **DATA CONDITIONING / OUTLIER REMOVAL**"
      ],
      "metadata": {
        "id": "kucA7MOm2ldE"
      }
    },
    {
      "cell_type": "code",
      "execution_count": null,
      "source": [
        "df.head"
      ],
      "outputs": [],
      "metadata": {
        "colab": {
          "base_uri": "https://localhost:8080/"
        },
        "id": "Qptj7I7T2ldE",
        "outputId": "6c847fba-087a-40c3-8daa-47ebc9bd3875"
      }
    },
    {
      "cell_type": "markdown",
      "source": [
        "## WHOLE DATA OUTLIER VISUALIZATION"
      ],
      "metadata": {
        "id": "5mn76Zjx2ldF"
      }
    },
    {
      "cell_type": "code",
      "execution_count": null,
      "source": [
        "plt.boxplot(df)"
      ],
      "outputs": [],
      "metadata": {
        "id": "s_Heouoz2ldF",
        "outputId": "c4ca4f54-5bb9-49af-cbc0-bbbee9b01d2e"
      }
    },
    {
      "cell_type": "markdown",
      "source": [
        "## DT VISUALIZATION"
      ],
      "metadata": {
        "id": "Hhi1CnC12ldF"
      }
    },
    {
      "cell_type": "code",
      "execution_count": null,
      "source": [
        "sns.histplot(df.DT)"
      ],
      "outputs": [],
      "metadata": {
        "colab": {
          "base_uri": "https://localhost:8080/",
          "height": 296
        },
        "id": "ihtTc4aT2ldF",
        "outputId": "515ba439-7554-4f17-ba48-0cbb2b865bde"
      }
    },
    {
      "cell_type": "code",
      "execution_count": null,
      "source": [
        "plt.boxplot(df[\"DT\"])"
      ],
      "outputs": [],
      "metadata": {
        "colab": {
          "base_uri": "https://localhost:8080/",
          "height": 404
        },
        "id": "--wT_xpm2ldG",
        "outputId": "1ff06fd2-47df-49ee-8033-eb165fd43752"
      }
    },
    {
      "cell_type": "markdown",
      "source": [
        "## GR VISUALIZATION"
      ],
      "metadata": {
        "id": "fIr13VYh2ldG"
      }
    },
    {
      "cell_type": "code",
      "execution_count": null,
      "source": [
        "sns.histplot(df.GR)"
      ],
      "outputs": [],
      "metadata": {
        "colab": {
          "base_uri": "https://localhost:8080/",
          "height": 296
        },
        "id": "8XKUU6VI2ldG",
        "outputId": "07d36ac6-b839-480e-db22-6b3e2b6f02bb"
      }
    },
    {
      "cell_type": "code",
      "execution_count": null,
      "source": [
        "plt.boxplot(df.GR)"
      ],
      "outputs": [],
      "metadata": {
        "colab": {
          "base_uri": "https://localhost:8080/",
          "height": 401
        },
        "id": "kR0k-gPj2ldG",
        "outputId": "51af20de-83b3-44af-9440-8d127385a1e6"
      }
    },
    {
      "cell_type": "markdown",
      "source": [
        "## NPHI VISUALIZATION"
      ],
      "metadata": {
        "id": "dlMZyGKV2ldH"
      }
    },
    {
      "cell_type": "code",
      "execution_count": null,
      "source": [
        "sns.histplot(df.NPHI)"
      ],
      "outputs": [],
      "metadata": {
        "colab": {
          "base_uri": "https://localhost:8080/",
          "height": 296
        },
        "id": "fVcMfiWo2ldH",
        "outputId": "f2989c70-f75a-4925-ab2f-026dcb1ca71c"
      }
    },
    {
      "cell_type": "code",
      "execution_count": null,
      "source": [
        "plt.boxplot(df.NPHI)"
      ],
      "outputs": [],
      "metadata": {
        "colab": {
          "base_uri": "https://localhost:8080/",
          "height": 401
        },
        "id": "farWzUQT2ldH",
        "outputId": "b8c4c990-af58-4c83-a139-188faf1476a9"
      }
    },
    {
      "cell_type": "markdown",
      "source": [
        "## RHOB VISUALIZATION"
      ],
      "metadata": {
        "id": "v7kvRBeP2ldH"
      }
    },
    {
      "cell_type": "code",
      "execution_count": null,
      "source": [
        "sns.histplot(df.RHOB)"
      ],
      "outputs": [],
      "metadata": {
        "colab": {
          "base_uri": "https://localhost:8080/",
          "height": 296
        },
        "id": "OWkTNv842ldH",
        "outputId": "59d0b598-ed16-494f-bc41-0c5e14a8f2e3"
      }
    },
    {
      "cell_type": "code",
      "execution_count": null,
      "source": [
        "plt.boxplot(df.RHOB)"
      ],
      "outputs": [],
      "metadata": {
        "colab": {
          "base_uri": "https://localhost:8080/",
          "height": 401
        },
        "id": "1G7HZxEk2ldI",
        "outputId": "b3ac7f2e-129e-4a9c-ab11-a14102d9fc2e"
      }
    },
    {
      "cell_type": "code",
      "execution_count": null,
      "source": [
        "def outliers(dataConditioningStrategy,dataframe, dataconditioningcolumns):\n",
        "    df=dataframe\n",
        "    if dataConditioningStrategy == \"3_Standard_Deviation\":\n",
        "        for column in dataconditioningcolumns:\n",
        "            print(\"column\",column )\n",
        "            upperlimit = df[column].mean() + 3*df[column].std()\n",
        "            lowerlimit = df[column].mean() - 3*df[column].std()\n",
        "\n",
        "            print(\"3 standard deviation outliers -:\")\n",
        "            print(df[(df[column] > upperlimit) | (df[column] < lowerlimit)])\n",
        "            print(df[(df[column] > upperlimit) | (df[column] < lowerlimit)].shape)\n",
        "            df= df[(df[column] < upperlimit) & (df[column] > lowerlimit) & (df.FACIES >= 0) & (df.FACIES <= 4)]\n",
        "            print(df)\n",
        "\n",
        "    elif dataConditioningStrategy == \"4_Standard_Deviation\":\n",
        "        for column in dataconditioningcolumns:\n",
        "            print(\"column\",column )\n",
        "            upperlimit = df[column].mean() + 4*df[column].std()\n",
        "            lowerlimit = df[column].mean() - 4*df[column].std()\n",
        "\n",
        "            print(\"4 standard deviation outliers -:\")\n",
        "            print(df[(df[column] > upperlimit) | (df[column] < lowerlimit)])\n",
        "            print(df[(df[column] > upperlimit) | (df[column] < lowerlimit)].shape)\n",
        "            df= df[(df[column] < upperlimit) & (df[column] > lowerlimit) & (df.FACIES >= 0) & (df.FACIES <= 4)]\n",
        "            print(df)\n",
        "            \n",
        "    elif dataConditioningStrategy == \"InterquartileRange\":\n",
        "        for column in dataconditioningcolumns:\n",
        "            print(\"column\",column )\n",
        "            q25, q75 = percentile(df[column], 25), percentile(df[column], 75)\n",
        "            iqr = q75 - q25\n",
        "            print('Percentiles: 25th=%.3f, 75th=%.3f, IQR=%.3f' % (q25, q75, iqr))\n",
        "            cut_off = iqr * 1.5\n",
        "            lowerlimit, upperlimit = q25 - cut_off, q75 + cut_off\n",
        "\n",
        "            print(\"InterQuartile Range Outliers-:\")\n",
        "            print(df[(df[column] > upperlimit) | (df[column] < lowerlimit)])\n",
        "            print(df[(df[column] > upperlimit) | (df[column] < lowerlimit)].shape)\n",
        "            df= df[(df[column] < upperlimit) & (df[column] > lowerlimit) & (df.FACIES >= 0) & (df.FACIES <= 4)]\n",
        "            print(df)\n",
        "\n",
        "            \n",
        "    return df\n"
      ],
      "outputs": [],
      "metadata": {
        "id": "9PXUT3Hw2ldI"
      }
    },
    {
      "cell_type": "code",
      "execution_count": null,
      "source": [
        "DATAConditioningStrategy = [\"3_Standard_Deviation\",\"4_Standard_Deviation\",\"InterquartileRange\"]\n",
        "DATAConditioningColumns = [\"DT\",\"GR\",\"NPHI\",\"RHOB\"]\n",
        "optionoutlier = 2\n",
        "df = outliers(DATAConditioningStrategy[optionoutlier] , df, DATAConditioningColumns)"
      ],
      "outputs": [],
      "metadata": {
        "colab": {
          "base_uri": "https://localhost:8080/"
        },
        "id": "GHueMoNA2ldI",
        "outputId": "15a7231d-8848-4a7a-a9de-9c48c9be729e"
      }
    },
    {
      "cell_type": "code",
      "execution_count": null,
      "source": [
        "df.shape"
      ],
      "outputs": [],
      "metadata": {
        "colab": {
          "base_uri": "https://localhost:8080/"
        },
        "id": "FqtiNkC22ldM",
        "outputId": "b35f9982-76b1-43dd-d68f-0f0d8ec1bb0b"
      }
    },
    {
      "cell_type": "markdown",
      "source": [
        "## WHOLE DATA AFTER REMOVING OUTLIERS"
      ],
      "metadata": {
        "id": "YHK-GxNM2ldM"
      }
    },
    {
      "cell_type": "code",
      "execution_count": null,
      "source": [
        "plt.boxplot(df)"
      ],
      "outputs": [],
      "metadata": {
        "id": "x6cGPons2ldM",
        "outputId": "294d3cff-ef94-4086-b585-27a2bcd868b5"
      }
    },
    {
      "cell_type": "code",
      "execution_count": null,
      "source": [
        "df.head(5)"
      ],
      "outputs": [],
      "metadata": {
        "colab": {
          "base_uri": "https://localhost:8080/",
          "height": 204
        },
        "id": "KxQXw14T5TgE",
        "outputId": "96cae227-73fb-4213-b662-10296ad7a905"
      }
    },
    {
      "cell_type": "markdown",
      "source": [
        "## DT AFTER REMOVING OUTLIER"
      ],
      "metadata": {
        "id": "zgQiRPjl2ldN"
      }
    },
    {
      "cell_type": "code",
      "execution_count": null,
      "source": [
        "sns.histplot(df.DT)"
      ],
      "outputs": [],
      "metadata": {
        "colab": {
          "base_uri": "https://localhost:8080/",
          "height": 296
        },
        "id": "LM_3jN2m2ldN",
        "outputId": "f8fb3b2f-3c0b-49c3-8182-bf40b4f43d30"
      }
    },
    {
      "cell_type": "code",
      "execution_count": null,
      "source": [
        "plt.boxplot(df[\"DT\"])"
      ],
      "outputs": [],
      "metadata": {
        "colab": {
          "base_uri": "https://localhost:8080/",
          "height": 401
        },
        "id": "UxbTBrSN2ldN",
        "outputId": "1d1785f7-0fbf-4b3b-9b5d-8869b7bc921a"
      }
    },
    {
      "cell_type": "markdown",
      "source": [
        "## GR AFTER REMOVING OUTLIER"
      ],
      "metadata": {
        "id": "i7XyAYMx2ldN"
      }
    },
    {
      "cell_type": "code",
      "execution_count": null,
      "source": [
        "sns.histplot(df.GR)"
      ],
      "outputs": [],
      "metadata": {
        "colab": {
          "base_uri": "https://localhost:8080/",
          "height": 296
        },
        "id": "7qpNJxr_2ldO",
        "outputId": "5a5ba249-8a2d-4404-bb9c-de9f64539e85"
      }
    },
    {
      "cell_type": "code",
      "execution_count": null,
      "source": [
        "plt.boxplot(df.GR)"
      ],
      "outputs": [],
      "metadata": {
        "colab": {
          "base_uri": "https://localhost:8080/",
          "height": 401
        },
        "id": "YDx9OBpJ2ldO",
        "outputId": "794ec261-b48b-4d03-c36d-56321f308113"
      }
    },
    {
      "cell_type": "markdown",
      "source": [
        "## NPHI AFTER REMOVING OUTLIER"
      ],
      "metadata": {
        "id": "QdRitXQ92ldO"
      }
    },
    {
      "cell_type": "code",
      "execution_count": null,
      "source": [
        "sns.histplot(df.NPHI)"
      ],
      "outputs": [],
      "metadata": {
        "colab": {
          "base_uri": "https://localhost:8080/",
          "height": 296
        },
        "id": "NtgArmxn2ldO",
        "outputId": "64ea4408-5451-43c0-daf1-c198b3575873"
      }
    },
    {
      "cell_type": "code",
      "execution_count": null,
      "source": [
        "plt.boxplot(df.NPHI)"
      ],
      "outputs": [],
      "metadata": {
        "colab": {
          "base_uri": "https://localhost:8080/",
          "height": 401
        },
        "id": "n2iG20Qx2ldP",
        "outputId": "21090149-6ee7-4492-b222-dfc57375cbd0"
      }
    },
    {
      "cell_type": "markdown",
      "source": [
        "## RHOB AFTER REMOVING OUTLIER"
      ],
      "metadata": {
        "id": "KbFTo1av2ldP"
      }
    },
    {
      "cell_type": "code",
      "execution_count": null,
      "source": [
        "sns.histplot(df.RHOB)"
      ],
      "outputs": [],
      "metadata": {
        "colab": {
          "base_uri": "https://localhost:8080/",
          "height": 298
        },
        "id": "zvD73IR12ldP",
        "outputId": "9e9541fe-f56f-4b72-bd10-de4fba946ebf"
      }
    },
    {
      "cell_type": "code",
      "execution_count": null,
      "source": [
        "plt.boxplot(df.RHOB)"
      ],
      "outputs": [],
      "metadata": {
        "colab": {
          "base_uri": "https://localhost:8080/",
          "height": 401
        },
        "id": "aXPE8_sP2ldP",
        "outputId": "2ff04b13-04d1-4b2c-ca07-799ad98ad0e2"
      }
    },
    {
      "cell_type": "code",
      "execution_count": null,
      "source": [
        "df"
      ],
      "outputs": [],
      "metadata": {
        "colab": {
          "base_uri": "https://localhost:8080/",
          "height": 419
        },
        "id": "4gWm_jyc2ldQ",
        "outputId": "4d180d4c-23e7-4cb1-9a80-b7431dea5b9f"
      }
    },
    {
      "cell_type": "markdown",
      "source": [
        "# **FEATURE SELECTION**"
      ],
      "metadata": {
        "id": "jdJ2AUr-2ldQ"
      }
    },
    {
      "cell_type": "code",
      "execution_count": null,
      "source": [
        "df.head(10)"
      ],
      "outputs": [],
      "metadata": {
        "colab": {
          "base_uri": "https://localhost:8080/",
          "height": 359
        },
        "id": "6EdTVU8O2ldQ",
        "outputId": "172d0550-b933-428f-9c10-41e18a3e8274"
      }
    },
    {
      "cell_type": "code",
      "execution_count": null,
      "source": [
        "df.shape"
      ],
      "outputs": [],
      "metadata": {
        "colab": {
          "base_uri": "https://localhost:8080/"
        },
        "id": "5vKvKlhO2ldQ",
        "outputId": "b39bccf4-8d1b-4486-c18f-f847d0fc62d7"
      }
    },
    {
      "cell_type": "code",
      "execution_count": null,
      "source": [
        "features = df.shape[1]\n",
        "features"
      ],
      "outputs": [],
      "metadata": {
        "colab": {
          "base_uri": "https://localhost:8080/"
        },
        "id": "HHzBSAER2ldR",
        "outputId": "103ebc43-df04-4ae6-e57d-cbb5430ec679"
      }
    },
    {
      "cell_type": "code",
      "execution_count": null,
      "source": [
        "df.var()"
      ],
      "outputs": [],
      "metadata": {
        "colab": {
          "base_uri": "https://localhost:8080/"
        },
        "id": "kxwLuDTL2ldR",
        "outputId": "38db9c1f-78dd-4664-fe9e-d747489c4f7f"
      }
    },
    {
      "cell_type": "code",
      "execution_count": null,
      "source": [
        "plt.figure(figsize=(12,10))\n",
        "cor = df.corr()\n",
        "sns.heatmap(cor , annot=True , cmap=plt.cm.CMRmap_r)\n",
        "plt.show()"
      ],
      "outputs": [],
      "metadata": {
        "colab": {
          "base_uri": "https://localhost:8080/",
          "height": 595
        },
        "id": "z5jxNawC2ldR",
        "outputId": "8229df88-5ec9-4e83-cefd-def5e4a4513b"
      }
    },
    {
      "cell_type": "code",
      "execution_count": null,
      "source": [
        "def FeatureSelection(FeatureSelectionStrategy,dataframe):\n",
        "    df=dataframe\n",
        "    \n",
        "    if(FeatureSelectionStrategy==\"Variance_Threshold\"):\n",
        "        var_thres=VarianceThreshold(threshold=0.0)\n",
        "        var_thres.fit(df)\n",
        "        df.columns[var_thres.get_support()]\n",
        "        cols = [column for column in df.columns\n",
        "                    if column not in df.columns[var_thres.get_support()]]\n",
        "        print(cols)\n",
        "        df = df.drop(cols,axis=1)\n",
        "        return df\n",
        "\n",
        "    if(FeatureSelectionStrategy==\"Absolute_Correlation\"):\n",
        "        threshold = 0.6\n",
        "        col_corr = set()\n",
        "        corr_matrix = df.corr()\n",
        "        for i in range(len(corr_matrix.columns)):\n",
        "            for j in range(i):\n",
        "                if abs(corr_matrix.iloc[i,j]) > threshold :\n",
        "                    colname = corr_matrix.columns[i]\n",
        "                    print(colname)\n",
        "                    col_corr.add(colname)\n",
        "        df = df.drop(col_corr,axis=1)\n",
        "        return df\n",
        "\n",
        "    if(FeatureSelectionStrategy==\"Correlation\"):\n",
        "        threshold = 0.6\n",
        "        col_corr = set()\n",
        "        corr_matrix = df.corr()\n",
        "        for i in range(len(corr_matrix.columns)):\n",
        "            for j in range(i):\n",
        "                if (corr_matrix.iloc[i,j]) > threshold :\n",
        "                    colname = corr_matrix.columns[i]\n",
        "                    print(colname)\n",
        "                    col_corr.add(colname)\n",
        "        df = df.drop(col_corr,axis=1)\n",
        "        return df\n",
        "\n",
        "    if(FeatureSelectionStrategy == \"SelectKBest\"):\n",
        "        x = df.drop(\"FACIES\",1)\n",
        "        y = df[\"FACIES\"]\n",
        "        mutual_info = mutual_info_classif(x,y)\n",
        "        print(mutual_info)\n",
        "        mutual_info=pd.Series(mutual_info)\n",
        "        mutual_info.sort_values(ascending=False)\n",
        "        mutual_info.sort_values(ascending=False).plot.bar(figsize=(20,8))\n",
        "        select_col = SelectKBest(mutual_info_classif,k=1)\n",
        "        select_col.fit(x,y)\n",
        "        column1 = df.columns[select_col.get_support()]\n",
        "        df = df.drop(column1,axis=1)\n",
        "        return df\n",
        "\n",
        "    if(FeatureSelectionStrategy == \"Mutual_Info_Class\"):\n",
        "        x = df.drop(\"FACIES\",1)\n",
        "        y = df[\"FACIES\"]\n",
        "        mutual_info = mutual_info_classif(x,y)\n",
        "        print(mutual_info)\n",
        "        mutual_info=pd.Series(mutual_info)\n",
        "        mutual_info.sort_values(ascending=False)\n",
        "        mutual_info.sort_values(ascending=False).plot.bar(figsize=(20,8))\n",
        "        return df"
      ],
      "outputs": [],
      "metadata": {
        "id": "GzwLxWpg2ldR"
      }
    },
    {
      "cell_type": "code",
      "execution_count": null,
      "source": [
        "FeatureSelectionStrategy=[\"Variance_Threshold\",\"Absolute_Correlation\",\"Correlation\",\"SelectKBest\",\"Mutual_Info_Class\"]\n",
        "optionfeature = 0\n",
        "df=FeatureSelection(FeatureSelectionStrategy[optionfeature],df)"
      ],
      "outputs": [],
      "metadata": {
        "id": "u2vb0ot42ldS"
      }
    },
    {
      "cell_type": "code",
      "execution_count": null,
      "source": [
        "print(\"Deleted feature(s) = \" + str(features-df.shape[1]))"
      ],
      "outputs": [],
      "metadata": {
        "colab": {
          "base_uri": "https://localhost:8080/"
        },
        "id": "LpPTpz_a2ldS",
        "outputId": "758aacbc-3387-443c-970a-7ef4f0939169"
      }
    },
    {
      "cell_type": "code",
      "execution_count": null,
      "source": [
        "df"
      ],
      "outputs": [],
      "metadata": {
        "colab": {
          "base_uri": "https://localhost:8080/",
          "height": 419
        },
        "id": "q6E5MgbC2ldS",
        "outputId": "eac8574f-65c8-4f6a-f307-74102a0620ca"
      }
    },
    {
      "cell_type": "markdown",
      "source": [
        "# **SCALING DATA**"
      ],
      "metadata": {
        "id": "jzESl5mQ2ldT"
      }
    },
    {
      "cell_type": "code",
      "execution_count": null,
      "source": [
        "def data_scaling( scaling_strategy , scaling_data , scaling_columns ):\n",
        "\n",
        "    if scaling_strategy ==\"RobustScaler\" :\n",
        "        scaling_data[scaling_columns] = RobustScaler().fit_transform(scaling_data[scaling_columns])\n",
        "\n",
        "    elif scaling_strategy ==\"MinMaxScaler\" :\n",
        "        scaling_data[scaling_columns] = MinMaxScaler().fit_transform(scaling_data[scaling_columns])\n",
        "\n",
        "    else : # If any other scaling send by mistake still perform Robust Scalar\n",
        "        scaling_data[scaling_columns] = RobustScaler().fit_transform(scaling_data[scaling_columns])\n",
        "\n",
        "    return scaling_data"
      ],
      "outputs": [],
      "metadata": {
        "id": "4NlceLQn2ldU"
      }
    },
    {
      "cell_type": "code",
      "execution_count": null,
      "source": [
        "scaling_strategy = [\"RobustScaler\",\"MinMaxScaler\"]\n",
        "optionscaling = 0\n",
        "df = data_scaling( scaling_strategy[optionscaling] , df , DATAConditioningColumns )"
      ],
      "outputs": [],
      "metadata": {
        "id": "16SmcSvl2ldU"
      }
    },
    {
      "cell_type": "code",
      "execution_count": null,
      "source": [
        "df"
      ],
      "outputs": [],
      "metadata": {
        "colab": {
          "base_uri": "https://localhost:8080/",
          "height": 419
        },
        "id": "OWeY3Sz72ldU",
        "outputId": "46a6be96-249f-49e4-8ba5-2e84cbbf3f4f"
      }
    },
    {
      "cell_type": "code",
      "execution_count": null,
      "source": [
        "df.to_csv(\"Preprocessed_data.csv\",index=False)"
      ],
      "outputs": [],
      "metadata": {}
    },
    {
      "cell_type": "markdown",
      "source": [
        "# **SPLITTING DATA USING TRAIN_TEST_SPLIT**"
      ],
      "metadata": {
        "id": "e4WaLhLe2ldB"
      }
    },
    {
      "cell_type": "code",
      "execution_count": null,
      "source": [
        "df=pd.read_csv('Preprocessed_data.csv')"
      ],
      "outputs": [],
      "metadata": {
        "id": "gzJCBjqSU7m1"
      }
    },
    {
      "cell_type": "code",
      "execution_count": null,
      "source": [
        "df.head()"
      ],
      "outputs": [],
      "metadata": {
        "id": "SzqZSe1qVc0M"
      }
    },
    {
      "cell_type": "code",
      "execution_count": null,
      "source": [
        "df.isnull().sum()"
      ],
      "outputs": [],
      "metadata": {
        "id": "6Jf5hRS1VcsZ"
      }
    },
    {
      "cell_type": "code",
      "execution_count": null,
      "source": [
        "x = df.drop(\"FACIES\",1)\n",
        "y = df[\"FACIES\"]\n",
        "X_train, X_test, y_train, y_test = train_test_split(x, y, test_size=0.3, random_state=8) "
      ],
      "outputs": [],
      "metadata": {
        "id": "abLACrWfVciH"
      }
    },
    {
      "cell_type": "code",
      "execution_count": null,
      "source": [
        "X_train.shape"
      ],
      "outputs": [],
      "metadata": {
        "id": "hQcjaBLIVcTd"
      }
    },
    {
      "cell_type": "code",
      "execution_count": null,
      "source": [
        "X_test.shape"
      ],
      "outputs": [],
      "metadata": {
        "id": "2KM8oVDYVkVh"
      }
    },
    {
      "cell_type": "code",
      "execution_count": null,
      "source": [
        "X_test"
      ],
      "outputs": [],
      "metadata": {
        "id": "xRlGcgJvVnOS"
      }
    },
    {
      "cell_type": "markdown",
      "source": [
        "# **MODEL TRAINING**"
      ],
      "metadata": {
        "id": "04GtsATa51zj"
      }
    },
    {
      "cell_type": "code",
      "execution_count": null,
      "source": [
        "estimator=[]"
      ],
      "outputs": [],
      "metadata": {}
    },
    {
      "cell_type": "code",
      "execution_count": null,
      "source": [
        "gnb = GaussianNB()\n"
      ],
      "outputs": [],
      "metadata": {
        "id": "8rcqYTimFy76"
      }
    },
    {
      "cell_type": "code",
      "execution_count": null,
      "source": [
        "model = LogisticRegression()\n",
        "solvers = ['newton-cg', 'lbfgs', 'liblinear']\n",
        "penalty = ['l2']\n",
        "c_values = [100, 10, 1.0, 0.1, 0.01]\n",
        "\n",
        "grid = {'solver':solvers,'penalty':penalty,'C':c_values} \n",
        "cv = RepeatedStratifiedKFold(n_splits=10, n_repeats=3, random_state=1)\n",
        "grid_search = GridSearchCV(estimator=model, param_grid=grid, n_jobs=-1, cv=cv, scoring='accuracy',error_score=0)\n",
        "grid_result = grid_search.fit(X_train, y_train)\n",
        "\n",
        "print(\"Best: %f using %s\" % (grid_result.best_score_, grid_result.best_params_))\n",
        "means = grid_result.cv_results_['mean_test_score']\n",
        "stds = grid_result.cv_results_['std_test_score']\n",
        "params = grid_result.cv_results_['params']\n",
        "for mean, stdev, param in zip(means, stds, params):\n",
        "    print(\"%f (%f) with: %r\" % (mean, stdev, param))"
      ],
      "outputs": [],
      "metadata": {
        "id": "O7WTmcVwGVgG",
        "colab": {
          "base_uri": "https://localhost:8080/"
        },
        "outputId": "66b048c6-d00f-4e30-bc30-14c840a1f375"
      }
    },
    {
      "cell_type": "code",
      "execution_count": null,
      "source": [
        "dtclf = DecisionTreeClassifier(max_depth=5)"
      ],
      "outputs": [],
      "metadata": {
        "id": "af3KOrS6w_Eq"
      }
    },
    {
      "cell_type": "code",
      "execution_count": null,
      "source": [
        "cat = CatBoostClassifier()"
      ],
      "outputs": [],
      "metadata": {
        "id": "u1q6KE0p0N1y"
      }
    },
    {
      "cell_type": "code",
      "execution_count": null,
      "source": [
        "xgb= XGBClassifier(learning_rate =0.09, \n",
        "n_estimators=494, \n",
        "max_depth=5,\n",
        "subsample = 0.70, \n",
        "verbosity = 0,)"
      ],
      "outputs": [],
      "metadata": {}
    },
    {
      "cell_type": "code",
      "execution_count": null,
      "source": [
        "lgbm=LGBMClassifier(importance_type = \"gain\",\n",
        "verbosity = -1, \n",
        "max_bin = 60,\n",
        "num_leaves=300,\n",
        "boosting_type = 'dart',\n",
        "learning_rate=0.1,\n",
        "n_estimators=494,\n",
        "max_depth=5, )"
      ],
      "outputs": [],
      "metadata": {}
    },
    {
      "cell_type": "code",
      "execution_count": null,
      "source": [
        "#neigh = KNeighborsClassifier(n_neighbors=3)\n"
      ],
      "outputs": [],
      "metadata": {}
    },
    {
      "cell_type": "code",
      "execution_count": null,
      "source": [
        "rdmclf = RandomForestClassifier(n_estimators=494,max_depth=5)"
      ],
      "outputs": [],
      "metadata": {}
    },
    {
      "cell_type": "code",
      "execution_count": null,
      "source": [
        "estimator.append(('gaussian',gnb))\n",
        "estimator.append(('Gridlogistic',grid_search))\n",
        "estimator.append(('catboost_classifier',cat))\n",
        "estimator.append(('decision_tree',dtclf))\n",
        "estimator.append(('xgbclassifier',xgb))\n",
        "estimator.append(('LGBMclassifier',lgbm))\n",
        "#estimator.append(('KNN',neigh))"
      ],
      "outputs": [],
      "metadata": {
        "id": "84UYVHFH3IIN"
      }
    },
    {
      "cell_type": "code",
      "execution_count": null,
      "source": [
        "vot_soft = VotingClassifier(estimators = estimator, voting ='soft')"
      ],
      "outputs": [],
      "metadata": {}
    },
    {
      "cell_type": "code",
      "execution_count": null,
      "source": [
        "vot_soft.fit(X_train,y_train)\n"
      ],
      "outputs": [],
      "metadata": {
        "id": "ra5AwxuPHLqY"
      }
    },
    {
      "cell_type": "code",
      "execution_count": null,
      "source": [
        "y_pred = vot_soft.predict(X_test)"
      ],
      "outputs": [],
      "metadata": {
        "id": "iWGi_OZ7U7m6",
        "outputId": "a2aef480-2259-46ec-837f-9c1919a6b7e5"
      }
    },
    {
      "cell_type": "code",
      "execution_count": null,
      "source": [
        "metrics.accuracy_score(y_test, y_pred)*100"
      ],
      "outputs": [],
      "metadata": {}
    },
    {
      "cell_type": "code",
      "execution_count": null,
      "source": [
        "t = confusion_matrix(y_test, y_pred)\n",
        "disp = ConfusionMatrixDisplay(confusion_matrix= t, display_labels= vot_soft.classes_)\n",
        "disp.plot()"
      ],
      "outputs": [],
      "metadata": {}
    },
    {
      "cell_type": "code",
      "execution_count": null,
      "source": [
        "#metrics.accuracy_score(y_test, y_pred_gnb)*100"
      ],
      "outputs": [],
      "metadata": {
        "colab": {
          "base_uri": "https://localhost:8080/"
        },
        "id": "Mc2VCGFV9_57",
        "outputId": "f3fa390e-2d29-41e4-cc7a-ec74870c0e97"
      }
    },
    {
      "cell_type": "code",
      "execution_count": null,
      "source": [
        "#confusion_matrix(y_test, y_pred_gnb)"
      ],
      "outputs": [],
      "metadata": {
        "colab": {
          "base_uri": "https://localhost:8080/"
        },
        "id": "ff28KQ2R5BNQ",
        "outputId": "f42f9d25-e1a5-48fd-c7f6-70f6b04044b7"
      }
    },
    {
      "cell_type": "code",
      "execution_count": null,
      "source": [
        "#t = confusion_matrix(y_test, y_pred_gnb)\n",
        "#disp = ConfusionMatrixDisplay(confusion_matrix= t, display_labels= gnb.classes_)"
      ],
      "outputs": [],
      "metadata": {
        "id": "d6UCCpIK6m6S"
      }
    },
    {
      "cell_type": "code",
      "execution_count": null,
      "source": [
        "#disp.plot()"
      ],
      "outputs": [],
      "metadata": {
        "colab": {
          "base_uri": "https://localhost:8080/",
          "height": 296
        },
        "id": "2eb1JQj28hHZ",
        "outputId": "c6aa5d7d-6eeb-43e0-e654-0a8ca7980c26"
      }
    },
    {
      "cell_type": "code",
      "execution_count": null,
      "source": [
        "#metrics.accuracy_score(y_test, y_pred_log)*100"
      ],
      "outputs": [],
      "metadata": {
        "id": "hOJbAqC4DqLC",
        "colab": {
          "base_uri": "https://localhost:8080/"
        },
        "outputId": "94e5e99b-04df-4ece-9be1-2d668a952770"
      }
    },
    {
      "cell_type": "code",
      "execution_count": null,
      "source": [
        "#t = confusion_matrix(y_test, y_pred_log)\n",
        "#disp = ConfusionMatrixDisplay(confusion_matrix= t, display_labels= grid_search.classes_)\n",
        "#disp.plot()"
      ],
      "outputs": [],
      "metadata": {}
    },
    {
      "cell_type": "code",
      "execution_count": null,
      "source": [
        "#metrics.accuracy_score(y_test, y_pred_cat)*100"
      ],
      "outputs": [],
      "metadata": {
        "colab": {
          "base_uri": "https://localhost:8080/"
        },
        "id": "A7CfjwgYz4Oz",
        "outputId": "d5de71e1-1211-42e9-f1e3-33828d3eb417"
      }
    },
    {
      "cell_type": "code",
      "execution_count": null,
      "source": [
        "#t = confusion_matrix(y_test, y_pred_cat)\n",
        "#disp = ConfusionMatrixDisplay(confusion_matrix= t, display_labels= cat.classes_)\n",
        "#disp.plot()"
      ],
      "outputs": [],
      "metadata": {
        "colab": {
          "base_uri": "https://localhost:8080/",
          "height": 296
        },
        "id": "45ADZor6yUQN",
        "outputId": "608f246d-5303-481c-e3fe-934eb310b8ab"
      }
    },
    {
      "cell_type": "code",
      "execution_count": null,
      "source": [
        "#metrics.accuracy_score(y_test, y_pred_dt)*100"
      ],
      "outputs": [],
      "metadata": {
        "colab": {
          "base_uri": "https://localhost:8080/"
        },
        "id": "_WS9r7tB1kLW",
        "outputId": "1749aa4f-2eb1-451b-a4ba-3f741db37f9d"
      }
    },
    {
      "cell_type": "code",
      "execution_count": null,
      "source": [
        "#t = confusion_matrix(y_test, y_pred_dt)\n",
        "#disp = ConfusionMatrixDisplay(confusion_matrix= t, display_labels= dtclf.classes_)\n",
        "#disp.plot()"
      ],
      "outputs": [],
      "metadata": {}
    },
    {
      "cell_type": "markdown",
      "source": [
        "# **TESTING DATA**"
      ],
      "metadata": {
        "id": "9f5HUHim3rD7"
      }
    },
    {
      "cell_type": "code",
      "execution_count": null,
      "source": [
        "path = '/media/mr-robot/Local Disk/summer_training/test'\n",
        "os.chdir(path)"
      ],
      "outputs": [],
      "metadata": {
        "id": "L83ti5Icsm-o"
      }
    },
    {
      "cell_type": "code",
      "execution_count": null,
      "source": [
        "# Converting all las files in csv by iterating using lasio\n",
        "for file in os.listdir():\n",
        "    if file.endswith(\".las\"):\n",
        "        file_path = f\"{path}/{file}\"\n",
        "        las=lasio.read(file_path)\n",
        "        size=len(file_path)\n",
        "        filepath1=file_path[:size-3]\n",
        "        las.to_csv(filepath1+'csv', units=False)"
      ],
      "outputs": [],
      "metadata": {
        "id": "gD1hheA0uvJj"
      }
    },
    {
      "cell_type": "code",
      "execution_count": null,
      "source": [
        "## To avoid furthur merging data and redundancy\n",
        "if(os.path.isfile('./merged_data.csv') ):\n",
        "    os.remove(\"merged_data.csv\")\n",
        "    \n",
        "if(os.path.isfile('./FACIES_imputed.csv')):\n",
        "    os.remove(\"FACIES_imputed.csv\")\n",
        "\n",
        "if(os.path.isfile('./FACIES_TRAIN.csv')):\n",
        "    os.remove(\"FACIES_TRAIN.csv\")"
      ],
      "outputs": [],
      "metadata": {
        "id": "8JVLH3ufu2v8"
      }
    },
    {
      "cell_type": "code",
      "execution_count": null,
      "source": [
        "# Merging all Well Log using Glob\n",
        "filenames = glob.glob(path + \"/*.csv\")\n",
        "dfs = []\n",
        "for filename in filenames:\n",
        "    dfs.append(pd.read_csv(filename))\n",
        "big_frame = pd.concat(dfs, ignore_index=True)\n",
        "big_frame.to_csv('merged_data.csv',index=False)"
      ],
      "outputs": [],
      "metadata": {
        "id": "qZBDpoOKvkbU"
      }
    },
    {
      "cell_type": "code",
      "execution_count": null,
      "source": [
        "df = pd.read_csv('merged_data.csv')\n",
        "df"
      ],
      "outputs": [],
      "metadata": {
        "colab": {
          "base_uri": "https://localhost:8080/",
          "height": 439
        },
        "id": "sDIjrOjdvrXM",
        "outputId": "d663c439-e879-497d-a357-6c59f10914d0"
      }
    },
    {
      "cell_type": "code",
      "execution_count": null,
      "source": [
        "#Selecting required feature\n",
        "df=df[[\"DT\",\"GR\",\"NPHI\",\"RHOB\",\"FACIES\"]]"
      ],
      "outputs": [],
      "metadata": {
        "id": "enjlaWcgwHgd"
      }
    },
    {
      "cell_type": "code",
      "execution_count": null,
      "source": [
        "df"
      ],
      "outputs": [],
      "metadata": {
        "colab": {
          "base_uri": "https://localhost:8080/",
          "height": 419
        },
        "id": "KqgoCMx3wQfE",
        "outputId": "8ae4c986-22c6-4931-b761-6e3da588b44e"
      }
    },
    {
      "cell_type": "code",
      "execution_count": null,
      "source": [
        "df=imputing(imputation_strategy[optionimputation],df)\n",
        "df"
      ],
      "outputs": [],
      "metadata": {
        "colab": {
          "base_uri": "https://localhost:8080/",
          "height": 419
        },
        "id": "sOB_iuFVwRHs",
        "outputId": "bbddf689-66db-4551-fab3-e37ca1329cb5"
      }
    },
    {
      "cell_type": "code",
      "execution_count": null,
      "source": [
        "df = outliers(DATAConditioningStrategy[optionoutlier] , df, DATAConditioningColumns)"
      ],
      "outputs": [],
      "metadata": {}
    },
    {
      "cell_type": "code",
      "execution_count": null,
      "source": [
        "df = data_scaling( scaling_strategy[optionscaling] , df , DATAConditioningColumns )"
      ],
      "outputs": [],
      "metadata": {}
    },
    {
      "cell_type": "code",
      "execution_count": null,
      "source": [
        "df.to_csv(\"testing_preprocessed.csv\",index=False)"
      ],
      "outputs": [],
      "metadata": {}
    },
    {
      "cell_type": "code",
      "execution_count": null,
      "source": [
        "df=pd.read_csv('testing_preprocessed.csv')"
      ],
      "outputs": [],
      "metadata": {}
    },
    {
      "cell_type": "code",
      "execution_count": null,
      "source": [
        "df"
      ],
      "outputs": [],
      "metadata": {}
    },
    {
      "cell_type": "code",
      "execution_count": null,
      "source": [
        "X_testing=df[[\"DT\",\"GR\",\"NPHI\",\"RHOB\"]]\n",
        "y_testing=df[[\"FACIES\"]]"
      ],
      "outputs": [],
      "metadata": {
        "id": "tzLutHPGwplQ"
      }
    },
    {
      "cell_type": "code",
      "execution_count": null,
      "source": [
        "X_testing.isnull().sum()"
      ],
      "outputs": [],
      "metadata": {
        "colab": {
          "base_uri": "https://localhost:8080/"
        },
        "id": "59qH1N7tyjkz",
        "outputId": "eb2e316c-68b9-4c8b-dd93-a7f739e85862"
      }
    },
    {
      "cell_type": "code",
      "execution_count": null,
      "source": [
        "#X_testing=FeatureSelection(FeatureSelectionStrategy[optionfeature],X_testing,y_testing)\n"
      ],
      "outputs": [],
      "metadata": {
        "id": "dEuHse4pz1ye"
      }
    },
    {
      "cell_type": "code",
      "execution_count": null,
      "source": [],
      "outputs": [],
      "metadata": {
        "id": "sYnPXaEd0i2-"
      }
    },
    {
      "cell_type": "code",
      "execution_count": null,
      "source": [
        "X_testing"
      ],
      "outputs": [],
      "metadata": {
        "colab": {
          "base_uri": "https://localhost:8080/",
          "height": 419
        },
        "id": "F-45DQ0h0vPj",
        "outputId": "e248fbbb-9236-4206-d4e5-f21461f1b5be"
      }
    },
    {
      "cell_type": "code",
      "execution_count": null,
      "source": [
        "y_testing.describe()"
      ],
      "outputs": [],
      "metadata": {
        "id": "iWEdSzg7U7nA",
        "outputId": "4d0ee703-38d1-4107-e3ab-c051ec2be437"
      }
    },
    {
      "cell_type": "code",
      "execution_count": null,
      "source": [
        "y_predicted = vot_soft.predict(X_testing)"
      ],
      "outputs": [],
      "metadata": {
        "id": "hhMFVuse0wv7"
      }
    },
    {
      "cell_type": "code",
      "execution_count": null,
      "source": [
        "y_predicted"
      ],
      "outputs": [],
      "metadata": {
        "colab": {
          "base_uri": "https://localhost:8080/"
        },
        "id": "gAyzulUc1BbD",
        "outputId": "3af3d98b-e11c-486d-c4d4-4fa6737c34da"
      }
    },
    {
      "cell_type": "code",
      "execution_count": null,
      "source": [
        "metrics.accuracy_score(y_testing, y_predicted)*100"
      ],
      "outputs": [],
      "metadata": {
        "colab": {
          "base_uri": "https://localhost:8080/"
        },
        "id": "aAr4M5RP1DTC",
        "outputId": "85e62236-f794-4a69-fc64-cc7d6d6337b6"
      }
    },
    {
      "cell_type": "code",
      "execution_count": null,
      "source": [
        "confusion_matrix(y_testing, y_predicted)"
      ],
      "outputs": [],
      "metadata": {
        "colab": {
          "base_uri": "https://localhost:8080/"
        },
        "id": "9Bc27W6I72lv",
        "outputId": "29023862-5beb-4492-e428-ce9b561d605a"
      }
    },
    {
      "cell_type": "code",
      "execution_count": null,
      "source": [
        "t = confusion_matrix(y_testing, y_predicted)\n",
        "disp = ConfusionMatrixDisplay(confusion_matrix= t, display_labels= vot_soft.classes_)\n",
        "disp.plot()"
      ],
      "outputs": [],
      "metadata": {}
    },
    {
      "cell_type": "code",
      "execution_count": null,
      "source": [
        "t1=pd.DataFrame(y_testing)"
      ],
      "outputs": [],
      "metadata": {
        "id": "0nD89I301Qqy"
      }
    },
    {
      "cell_type": "code",
      "execution_count": null,
      "source": [
        "t1.to_csv('y_given.csv',index=False)"
      ],
      "outputs": [],
      "metadata": {
        "id": "jRuEORKy2X71"
      }
    },
    {
      "cell_type": "code",
      "execution_count": null,
      "source": [
        "t2=pd.DataFrame(y_predicted)"
      ],
      "outputs": [],
      "metadata": {
        "id": "EvfnePxr2g8q"
      }
    },
    {
      "cell_type": "code",
      "execution_count": null,
      "source": [
        "t2.to_csv('y_predicted.csv',index=False)"
      ],
      "outputs": [],
      "metadata": {
        "id": "LdBNUoT52nLS"
      }
    },
    {
      "cell_type": "code",
      "execution_count": null,
      "source": [],
      "outputs": [],
      "metadata": {
        "id": "8Uyyjxpj00-z"
      }
    }
  ]
}